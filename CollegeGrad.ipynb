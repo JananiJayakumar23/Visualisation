{
  "nbformat": 4,
  "nbformat_minor": 0,
  "metadata": {
    "colab": {
      "provenance": [],
      "authorship_tag": "ABX9TyOT7+Qa5lgufmA7ogRgXjNT",
      "include_colab_link": true
    },
    "kernelspec": {
      "name": "python3",
      "display_name": "Python 3"
    },
    "language_info": {
      "name": "python"
    }
  },
  "cells": [
    {
      "cell_type": "markdown",
      "metadata": {
        "id": "view-in-github",
        "colab_type": "text"
      },
      "source": [
        "<a href=\"https://colab.research.google.com/github/JananiJayakumar23/Visualisation/blob/main/CollegeGrad.ipynb\" target=\"_parent\"><img src=\"https://colab.research.google.com/assets/colab-badge.svg\" alt=\"Open In Colab\"/></a>"
      ]
    },
    {
      "cell_type": "code",
      "metadata": {
        "id": "L3B7MKKVXbRG"
      },
      "source": [
        "import pandas as pd\n",
        "collab=pd.read_csv(\"/content/sample_data/formative.csv\")"
      ],
      "execution_count": null,
      "outputs": []
    },
    {
      "cell_type": "code",
      "source": [
        "from google.colab import drive\n",
        "drive.mount('/content/drive')"
      ],
      "metadata": {
        "id": "k5gyAkqAjGWy"
      },
      "execution_count": null,
      "outputs": []
    },
    {
      "cell_type": "code",
      "source": [],
      "metadata": {
        "id": "32xamiRKjJNK"
      },
      "execution_count": null,
      "outputs": []
    },
    {
      "cell_type": "code",
      "metadata": {
        "colab": {
          "base_uri": "https://localhost:8080/",
          "height": 205
        },
        "id": "MzokLzgDciVc",
        "outputId": "77148d7c-11af-4e3f-f009-78f7ab92af2b"
      },
      "source": [
        "collab.head()"
      ],
      "execution_count": null,
      "outputs": [
        {
          "output_type": "execute_result",
          "data": {
            "text/html": [
              "<div>\n",
              "<style scoped>\n",
              "    .dataframe tbody tr th:only-of-type {\n",
              "        vertical-align: middle;\n",
              "    }\n",
              "\n",
              "    .dataframe tbody tr th {\n",
              "        vertical-align: top;\n",
              "    }\n",
              "\n",
              "    .dataframe thead th {\n",
              "        text-align: right;\n",
              "    }\n",
              "</style>\n",
              "<table border=\"1\" class=\"dataframe\">\n",
              "  <thead>\n",
              "    <tr style=\"text-align: right;\">\n",
              "      <th></th>\n",
              "      <th>id</th>\n",
              "      <th>age</th>\n",
              "      <th>race</th>\n",
              "      <th>collgrad</th>\n",
              "      <th>south</th>\n",
              "      <th>ttl_exp</th>\n",
              "      <th>hours</th>\n",
              "      <th>ln_wage</th>\n",
              "    </tr>\n",
              "  </thead>\n",
              "  <tbody>\n",
              "    <tr>\n",
              "      <th>0</th>\n",
              "      <td>1</td>\n",
              "      <td>44.0</td>\n",
              "      <td>1</td>\n",
              "      <td>1</td>\n",
              "      <td>1</td>\n",
              "      <td>18.326920</td>\n",
              "      <td>40</td>\n",
              "      <td>2.165596</td>\n",
              "    </tr>\n",
              "    <tr>\n",
              "      <th>1</th>\n",
              "      <td>2</td>\n",
              "      <td>43.0</td>\n",
              "      <td>1</td>\n",
              "      <td>0</td>\n",
              "      <td>0</td>\n",
              "      <td>16.038460</td>\n",
              "      <td>2</td>\n",
              "      <td>2.555866</td>\n",
              "    </tr>\n",
              "    <tr>\n",
              "      <th>2</th>\n",
              "      <td>3</td>\n",
              "      <td>38.0</td>\n",
              "      <td>1</td>\n",
              "      <td>0</td>\n",
              "      <td>0</td>\n",
              "      <td>4.532051</td>\n",
              "      <td>30</td>\n",
              "      <td>1.539409</td>\n",
              "    </tr>\n",
              "    <tr>\n",
              "      <th>3</th>\n",
              "      <td>4</td>\n",
              "      <td>37.0</td>\n",
              "      <td>1</td>\n",
              "      <td>0</td>\n",
              "      <td>0</td>\n",
              "      <td>8.467949</td>\n",
              "      <td>40</td>\n",
              "      <td>1.105033</td>\n",
              "    </tr>\n",
              "    <tr>\n",
              "      <th>4</th>\n",
              "      <td>5</td>\n",
              "      <td>35.0</td>\n",
              "      <td>1</td>\n",
              "      <td>0</td>\n",
              "      <td>1</td>\n",
              "      <td>11.929490</td>\n",
              "      <td>40</td>\n",
              "      <td>1.862719</td>\n",
              "    </tr>\n",
              "  </tbody>\n",
              "</table>\n",
              "</div>"
            ],
            "text/plain": [
              "   id   age  race  collgrad  south    ttl_exp  hours   ln_wage\n",
              "0   1  44.0     1         1      1  18.326920     40  2.165596\n",
              "1   2  43.0     1         0      0  16.038460      2  2.555866\n",
              "2   3  38.0     1         0      0   4.532051     30  1.539409\n",
              "3   4  37.0     1         0      0   8.467949     40  1.105033\n",
              "4   5  35.0     1         0      1  11.929490     40  1.862719"
            ]
          },
          "metadata": {},
          "execution_count": 31
        }
      ]
    },
    {
      "cell_type": "code",
      "metadata": {
        "colab": {
          "base_uri": "https://localhost:8080/"
        },
        "id": "8auHDnhxcoDC",
        "outputId": "cf2d1465-5d01-4d1b-88ad-0f31b6cb6045"
      },
      "source": [
        "collab.count"
      ],
      "execution_count": null,
      "outputs": [
        {
          "output_type": "execute_result",
          "data": {
            "text/plain": [
              "<bound method DataFrame.count of        id   age  race  collgrad  south    ttl_exp  hours   ln_wage\n",
              "0       1  44.0     1         1      1  18.326920     40  2.165596\n",
              "1       2  43.0     1         0      0  16.038460      2  2.555866\n",
              "2       3  38.0     1         0      0   4.532051     30  1.539409\n",
              "3       4  37.0     1         0      0   8.467949     40  1.105033\n",
              "4       5  35.0     1         0      1  11.929490     40  1.862719\n",
              "..    ...   ...   ...       ...    ...        ...    ...       ...\n",
              "995   996  36.0     2         0      0  16.243590     40  2.164424\n",
              "996   997  44.0     2         0      1  14.730770     40  1.757358\n",
              "997   998  39.0     2         0      0  14.897440     40  1.798180\n",
              "998   999  35.0     2         0      1  10.423080     40  1.030309\n",
              "999  1000  41.0     1         0      1  15.576920     40  2.407714\n",
              "\n",
              "[1000 rows x 8 columns]>"
            ]
          },
          "metadata": {},
          "execution_count": 7
        }
      ]
    },
    {
      "cell_type": "code",
      "metadata": {
        "colab": {
          "base_uri": "https://localhost:8080/"
        },
        "id": "0q_m0VYpcxQS",
        "outputId": "11d3f6f6-3d40-440e-e23c-d6e207737e21"
      },
      "source": [
        "collab.shape"
      ],
      "execution_count": null,
      "outputs": [
        {
          "output_type": "execute_result",
          "data": {
            "text/plain": [
              "(1000, 8)"
            ]
          },
          "metadata": {},
          "execution_count": 8
        }
      ]
    },
    {
      "cell_type": "code",
      "metadata": {
        "colab": {
          "base_uri": "https://localhost:8080/"
        },
        "id": "YkRdlhfzc2ah",
        "outputId": "d4000cbb-cffd-4edb-8fcc-fa972a3bdd43"
      },
      "source": [
        "collab.hist"
      ],
      "execution_count": null,
      "outputs": [
        {
          "output_type": "execute_result",
          "data": {
            "text/plain": [
              "<bound method hist_frame of        id   age  race  collgrad  south    ttl_exp  hours   ln_wage\n",
              "0       1  44.0     1         1      1  18.326920     40  2.165596\n",
              "1       2  43.0     1         0      0  16.038460      2  2.555866\n",
              "2       3  38.0     1         0      0   4.532051     30  1.539409\n",
              "3       4  37.0     1         0      0   8.467949     40  1.105033\n",
              "4       5  35.0     1         0      1  11.929490     40  1.862719\n",
              "..    ...   ...   ...       ...    ...        ...    ...       ...\n",
              "995   996  36.0     2         0      0  16.243590     40  2.164424\n",
              "996   997  44.0     2         0      1  14.730770     40  1.757358\n",
              "997   998  39.0     2         0      0  14.897440     40  1.798180\n",
              "998   999  35.0     2         0      1  10.423080     40  1.030309\n",
              "999  1000  41.0     1         0      1  15.576920     40  2.407714\n",
              "\n",
              "[1000 rows x 8 columns]>"
            ]
          },
          "metadata": {},
          "execution_count": 34
        }
      ]
    },
    {
      "cell_type": "code",
      "metadata": {
        "id": "jjKKojQ5dR7H"
      },
      "source": [
        "import matplotlib.pyplot as plt\n",
        "import pandas as pd\n"
      ],
      "execution_count": null,
      "outputs": []
    },
    {
      "cell_type": "code",
      "metadata": {
        "colab": {
          "base_uri": "https://localhost:8080/"
        },
        "id": "OG7FN1logTwH",
        "outputId": "affeb53c-6610-456c-d1c8-b33e9291aef3"
      },
      "source": [
        "df = pd.read_csv(\"/content/sample_data/formative.csv\")\n",
        "df.columns"
      ],
      "execution_count": null,
      "outputs": [
        {
          "output_type": "execute_result",
          "data": {
            "text/plain": [
              "Index(['id', 'age', 'race', 'collgrad', 'south', 'ttl_exp', 'hours',\n",
              "       'ln_wage'],\n",
              "      dtype='object')"
            ]
          },
          "metadata": {},
          "execution_count": 26
        }
      ]
    },
    {
      "cell_type": "code",
      "metadata": {
        "id": "9W7y4krNg7bk"
      },
      "source": [],
      "execution_count": null,
      "outputs": []
    },
    {
      "cell_type": "code",
      "metadata": {
        "colab": {
          "base_uri": "https://localhost:8080/"
        },
        "id": "jetW8olug8ET",
        "outputId": "cd45276e-5ccf-42ab-f237-989d15c403c1"
      },
      "source": [
        "collab.mean()"
      ],
      "execution_count": null,
      "outputs": [
        {
          "output_type": "execute_result",
          "data": {
            "text/plain": [
              "id          500.500000\n",
              "age          39.186117\n",
              "race          1.377000\n",
              "collgrad      0.221000\n",
              "south         0.599000\n",
              "ttl_exp      12.570205\n",
              "hours        37.965000\n",
              "ln_wage       1.867301\n",
              "dtype: float64"
            ]
          },
          "metadata": {},
          "execution_count": 36
        }
      ]
    },
    {
      "cell_type": "code",
      "metadata": {
        "colab": {
          "base_uri": "https://localhost:8080/"
        },
        "id": "uM74tyE3tg7D",
        "outputId": "57420191-4ee0-4f4d-fa40-2e3fb8f50843"
      },
      "source": [
        "collab.median()"
      ],
      "execution_count": null,
      "outputs": [
        {
          "output_type": "execute_result",
          "data": {
            "text/plain": [
              "id          500.500000\n",
              "age          39.000000\n",
              "race          1.000000\n",
              "collgrad      0.000000\n",
              "south         1.000000\n",
              "ttl_exp      13.179490\n",
              "hours        40.000000\n",
              "ln_wage       1.839322\n",
              "dtype: float64"
            ]
          },
          "metadata": {},
          "execution_count": 37
        }
      ]
    },
    {
      "cell_type": "code",
      "metadata": {
        "colab": {
          "base_uri": "https://localhost:8080/",
          "height": 423
        },
        "id": "qpVyFZUoulqJ",
        "outputId": "19035762-1473-47e3-8e5a-f92495a7586d"
      },
      "source": [
        "collab.mode()"
      ],
      "execution_count": null,
      "outputs": [
        {
          "output_type": "execute_result",
          "data": {
            "text/html": [
              "<div>\n",
              "<style scoped>\n",
              "    .dataframe tbody tr th:only-of-type {\n",
              "        vertical-align: middle;\n",
              "    }\n",
              "\n",
              "    .dataframe tbody tr th {\n",
              "        vertical-align: top;\n",
              "    }\n",
              "\n",
              "    .dataframe thead th {\n",
              "        text-align: right;\n",
              "    }\n",
              "</style>\n",
              "<table border=\"1\" class=\"dataframe\">\n",
              "  <thead>\n",
              "    <tr style=\"text-align: right;\">\n",
              "      <th></th>\n",
              "      <th>id</th>\n",
              "      <th>age</th>\n",
              "      <th>race</th>\n",
              "      <th>collgrad</th>\n",
              "      <th>south</th>\n",
              "      <th>ttl_exp</th>\n",
              "      <th>hours</th>\n",
              "      <th>ln_wage</th>\n",
              "    </tr>\n",
              "  </thead>\n",
              "  <tbody>\n",
              "    <tr>\n",
              "      <th>0</th>\n",
              "      <td>1</td>\n",
              "      <td>35.0</td>\n",
              "      <td>1.0</td>\n",
              "      <td>0.0</td>\n",
              "      <td>1.0</td>\n",
              "      <td>13.78846</td>\n",
              "      <td>40.0</td>\n",
              "      <td>1.392715</td>\n",
              "    </tr>\n",
              "    <tr>\n",
              "      <th>1</th>\n",
              "      <td>2</td>\n",
              "      <td>NaN</td>\n",
              "      <td>NaN</td>\n",
              "      <td>NaN</td>\n",
              "      <td>NaN</td>\n",
              "      <td>14.86539</td>\n",
              "      <td>NaN</td>\n",
              "      <td>NaN</td>\n",
              "    </tr>\n",
              "    <tr>\n",
              "      <th>2</th>\n",
              "      <td>3</td>\n",
              "      <td>NaN</td>\n",
              "      <td>NaN</td>\n",
              "      <td>NaN</td>\n",
              "      <td>NaN</td>\n",
              "      <td>16.17308</td>\n",
              "      <td>NaN</td>\n",
              "      <td>NaN</td>\n",
              "    </tr>\n",
              "    <tr>\n",
              "      <th>3</th>\n",
              "      <td>4</td>\n",
              "      <td>NaN</td>\n",
              "      <td>NaN</td>\n",
              "      <td>NaN</td>\n",
              "      <td>NaN</td>\n",
              "      <td>16.50000</td>\n",
              "      <td>NaN</td>\n",
              "      <td>NaN</td>\n",
              "    </tr>\n",
              "    <tr>\n",
              "      <th>4</th>\n",
              "      <td>5</td>\n",
              "      <td>NaN</td>\n",
              "      <td>NaN</td>\n",
              "      <td>NaN</td>\n",
              "      <td>NaN</td>\n",
              "      <td>16.86539</td>\n",
              "      <td>NaN</td>\n",
              "      <td>NaN</td>\n",
              "    </tr>\n",
              "    <tr>\n",
              "      <th>...</th>\n",
              "      <td>...</td>\n",
              "      <td>...</td>\n",
              "      <td>...</td>\n",
              "      <td>...</td>\n",
              "      <td>...</td>\n",
              "      <td>...</td>\n",
              "      <td>...</td>\n",
              "      <td>...</td>\n",
              "    </tr>\n",
              "    <tr>\n",
              "      <th>995</th>\n",
              "      <td>996</td>\n",
              "      <td>NaN</td>\n",
              "      <td>NaN</td>\n",
              "      <td>NaN</td>\n",
              "      <td>NaN</td>\n",
              "      <td>NaN</td>\n",
              "      <td>NaN</td>\n",
              "      <td>NaN</td>\n",
              "    </tr>\n",
              "    <tr>\n",
              "      <th>996</th>\n",
              "      <td>997</td>\n",
              "      <td>NaN</td>\n",
              "      <td>NaN</td>\n",
              "      <td>NaN</td>\n",
              "      <td>NaN</td>\n",
              "      <td>NaN</td>\n",
              "      <td>NaN</td>\n",
              "      <td>NaN</td>\n",
              "    </tr>\n",
              "    <tr>\n",
              "      <th>997</th>\n",
              "      <td>998</td>\n",
              "      <td>NaN</td>\n",
              "      <td>NaN</td>\n",
              "      <td>NaN</td>\n",
              "      <td>NaN</td>\n",
              "      <td>NaN</td>\n",
              "      <td>NaN</td>\n",
              "      <td>NaN</td>\n",
              "    </tr>\n",
              "    <tr>\n",
              "      <th>998</th>\n",
              "      <td>999</td>\n",
              "      <td>NaN</td>\n",
              "      <td>NaN</td>\n",
              "      <td>NaN</td>\n",
              "      <td>NaN</td>\n",
              "      <td>NaN</td>\n",
              "      <td>NaN</td>\n",
              "      <td>NaN</td>\n",
              "    </tr>\n",
              "    <tr>\n",
              "      <th>999</th>\n",
              "      <td>1000</td>\n",
              "      <td>NaN</td>\n",
              "      <td>NaN</td>\n",
              "      <td>NaN</td>\n",
              "      <td>NaN</td>\n",
              "      <td>NaN</td>\n",
              "      <td>NaN</td>\n",
              "      <td>NaN</td>\n",
              "    </tr>\n",
              "  </tbody>\n",
              "</table>\n",
              "<p>1000 rows × 8 columns</p>\n",
              "</div>"
            ],
            "text/plain": [
              "       id   age  race  collgrad  south   ttl_exp  hours   ln_wage\n",
              "0       1  35.0   1.0       0.0    1.0  13.78846   40.0  1.392715\n",
              "1       2   NaN   NaN       NaN    NaN  14.86539    NaN       NaN\n",
              "2       3   NaN   NaN       NaN    NaN  16.17308    NaN       NaN\n",
              "3       4   NaN   NaN       NaN    NaN  16.50000    NaN       NaN\n",
              "4       5   NaN   NaN       NaN    NaN  16.86539    NaN       NaN\n",
              "..    ...   ...   ...       ...    ...       ...    ...       ...\n",
              "995   996   NaN   NaN       NaN    NaN       NaN    NaN       NaN\n",
              "996   997   NaN   NaN       NaN    NaN       NaN    NaN       NaN\n",
              "997   998   NaN   NaN       NaN    NaN       NaN    NaN       NaN\n",
              "998   999   NaN   NaN       NaN    NaN       NaN    NaN       NaN\n",
              "999  1000   NaN   NaN       NaN    NaN       NaN    NaN       NaN\n",
              "\n",
              "[1000 rows x 8 columns]"
            ]
          },
          "metadata": {},
          "execution_count": 38
        }
      ]
    },
    {
      "cell_type": "code",
      "metadata": {
        "id": "tsNwVYcjvBzj",
        "colab": {
          "base_uri": "https://localhost:8080/"
        },
        "outputId": "b366311c-4850-4f99-f6f0-e91e75578864"
      },
      "source": [
        "collab['age'].mean()"
      ],
      "execution_count": null,
      "outputs": [
        {
          "output_type": "execute_result",
          "data": {
            "text/plain": [
              "39.186116700201204"
            ]
          },
          "metadata": {},
          "execution_count": 39
        }
      ]
    },
    {
      "cell_type": "code",
      "metadata": {
        "colab": {
          "base_uri": "https://localhost:8080/"
        },
        "id": "iGOk1FEZw09Z",
        "outputId": "f6371343-ce4a-4e7e-d873-5d0785800b8d"
      },
      "source": [
        "collab['ttl_exp'].mean()"
      ],
      "execution_count": null,
      "outputs": [
        {
          "output_type": "execute_result",
          "data": {
            "text/plain": [
              "12.570205199999998"
            ]
          },
          "metadata": {},
          "execution_count": 40
        }
      ]
    },
    {
      "cell_type": "code",
      "metadata": {
        "colab": {
          "base_uri": "https://localhost:8080/"
        },
        "id": "twdrtsJzw8bM",
        "outputId": "7c31bc4c-9f20-4bf6-e8c6-5b65360088e2"
      },
      "source": [
        "collab[['age','ttl_exp']].mean()"
      ],
      "execution_count": null,
      "outputs": [
        {
          "output_type": "execute_result",
          "data": {
            "text/plain": [
              "age        39.186117\n",
              "ttl_exp    12.570205\n",
              "dtype: float64"
            ]
          },
          "metadata": {},
          "execution_count": 41
        }
      ]
    },
    {
      "cell_type": "code",
      "metadata": {
        "colab": {
          "base_uri": "https://localhost:8080/"
        },
        "id": "gm93WS4MxjIR",
        "outputId": "6119d17d-2f57-4791-bedf-7a4e6eeadb21"
      },
      "source": [
        "collab[['age','ttl_exp']].median()"
      ],
      "execution_count": null,
      "outputs": [
        {
          "output_type": "execute_result",
          "data": {
            "text/plain": [
              "age        39.00000\n",
              "ttl_exp    13.17949\n",
              "dtype: float64"
            ]
          },
          "metadata": {},
          "execution_count": 42
        }
      ]
    },
    {
      "cell_type": "code",
      "metadata": {
        "colab": {
          "base_uri": "https://localhost:8080/",
          "height": 299
        },
        "id": "fo2PGcVjxuW6",
        "outputId": "78ca1451-fa4c-4182-8615-7414e18b3871"
      },
      "source": [
        "collab[['age','ttl_exp']].describe()"
      ],
      "execution_count": null,
      "outputs": [
        {
          "output_type": "execute_result",
          "data": {
            "text/html": [
              "<div>\n",
              "<style scoped>\n",
              "    .dataframe tbody tr th:only-of-type {\n",
              "        vertical-align: middle;\n",
              "    }\n",
              "\n",
              "    .dataframe tbody tr th {\n",
              "        vertical-align: top;\n",
              "    }\n",
              "\n",
              "    .dataframe thead th {\n",
              "        text-align: right;\n",
              "    }\n",
              "</style>\n",
              "<table border=\"1\" class=\"dataframe\">\n",
              "  <thead>\n",
              "    <tr style=\"text-align: right;\">\n",
              "      <th></th>\n",
              "      <th>age</th>\n",
              "      <th>ttl_exp</th>\n",
              "    </tr>\n",
              "  </thead>\n",
              "  <tbody>\n",
              "    <tr>\n",
              "      <th>count</th>\n",
              "      <td>994.000000</td>\n",
              "      <td>1000.000000</td>\n",
              "    </tr>\n",
              "    <tr>\n",
              "      <th>mean</th>\n",
              "      <td>39.186117</td>\n",
              "      <td>12.570205</td>\n",
              "    </tr>\n",
              "    <tr>\n",
              "      <th>std</th>\n",
              "      <td>3.108409</td>\n",
              "      <td>4.643023</td>\n",
              "    </tr>\n",
              "    <tr>\n",
              "      <th>min</th>\n",
              "      <td>34.000000</td>\n",
              "      <td>0.115385</td>\n",
              "    </tr>\n",
              "    <tr>\n",
              "      <th>25%</th>\n",
              "      <td>36.000000</td>\n",
              "      <td>9.253205</td>\n",
              "    </tr>\n",
              "    <tr>\n",
              "      <th>50%</th>\n",
              "      <td>39.000000</td>\n",
              "      <td>13.179490</td>\n",
              "    </tr>\n",
              "    <tr>\n",
              "      <th>75%</th>\n",
              "      <td>42.000000</td>\n",
              "      <td>16.028845</td>\n",
              "    </tr>\n",
              "    <tr>\n",
              "      <th>max</th>\n",
              "      <td>45.000000</td>\n",
              "      <td>28.884610</td>\n",
              "    </tr>\n",
              "  </tbody>\n",
              "</table>\n",
              "</div>"
            ],
            "text/plain": [
              "              age      ttl_exp\n",
              "count  994.000000  1000.000000\n",
              "mean    39.186117    12.570205\n",
              "std      3.108409     4.643023\n",
              "min     34.000000     0.115385\n",
              "25%     36.000000     9.253205\n",
              "50%     39.000000    13.179490\n",
              "75%     42.000000    16.028845\n",
              "max     45.000000    28.884610"
            ]
          },
          "metadata": {},
          "execution_count": 43
        }
      ]
    },
    {
      "cell_type": "code",
      "metadata": {
        "colab": {
          "base_uri": "https://localhost:8080/"
        },
        "id": "XrDkmyBtxdIU",
        "outputId": "f9b4b01b-30e7-4343-9e08-c07a1d12f3de"
      },
      "source": [
        "collab['age'].max() - collab['age'].min()"
      ],
      "execution_count": null,
      "outputs": [
        {
          "output_type": "execute_result",
          "data": {
            "text/plain": [
              "11.0"
            ]
          },
          "metadata": {},
          "execution_count": 44
        }
      ]
    },
    {
      "cell_type": "code",
      "metadata": {
        "colab": {
          "base_uri": "https://localhost:8080/"
        },
        "id": "LugLd8EdypH4",
        "outputId": "2c792417-9490-4d9f-b692-aeed4f852be5"
      },
      "source": [
        "collab.info()"
      ],
      "execution_count": null,
      "outputs": [
        {
          "output_type": "stream",
          "name": "stdout",
          "text": [
            "<class 'pandas.core.frame.DataFrame'>\n",
            "RangeIndex: 1000 entries, 0 to 999\n",
            "Data columns (total 8 columns):\n",
            " #   Column    Non-Null Count  Dtype  \n",
            "---  ------    --------------  -----  \n",
            " 0   id        1000 non-null   int64  \n",
            " 1   age       994 non-null    float64\n",
            " 2   race      1000 non-null   int64  \n",
            " 3   collgrad  1000 non-null   int64  \n",
            " 4   south     1000 non-null   int64  \n",
            " 5   ttl_exp   1000 non-null   float64\n",
            " 6   hours     1000 non-null   int64  \n",
            " 7   ln_wage   1000 non-null   float64\n",
            "dtypes: float64(3), int64(5)\n",
            "memory usage: 62.6 KB\n"
          ]
        }
      ]
    },
    {
      "cell_type": "code",
      "metadata": {
        "colab": {
          "base_uri": "https://localhost:8080/",
          "height": 174
        },
        "id": "BgD4Grfky7nP",
        "outputId": "598c483e-9439-493c-f705-d8f403418bc1"
      },
      "source": [
        "collab.agg({'age': ['min','max','median','mean'],\n",
        "            'ttl_exp': ['min','max','median','mean'] })"
      ],
      "execution_count": null,
      "outputs": [
        {
          "output_type": "execute_result",
          "data": {
            "text/html": [
              "<div>\n",
              "<style scoped>\n",
              "    .dataframe tbody tr th:only-of-type {\n",
              "        vertical-align: middle;\n",
              "    }\n",
              "\n",
              "    .dataframe tbody tr th {\n",
              "        vertical-align: top;\n",
              "    }\n",
              "\n",
              "    .dataframe thead th {\n",
              "        text-align: right;\n",
              "    }\n",
              "</style>\n",
              "<table border=\"1\" class=\"dataframe\">\n",
              "  <thead>\n",
              "    <tr style=\"text-align: right;\">\n",
              "      <th></th>\n",
              "      <th>age</th>\n",
              "      <th>ttl_exp</th>\n",
              "    </tr>\n",
              "  </thead>\n",
              "  <tbody>\n",
              "    <tr>\n",
              "      <th>min</th>\n",
              "      <td>34.000000</td>\n",
              "      <td>0.115385</td>\n",
              "    </tr>\n",
              "    <tr>\n",
              "      <th>max</th>\n",
              "      <td>45.000000</td>\n",
              "      <td>28.884610</td>\n",
              "    </tr>\n",
              "    <tr>\n",
              "      <th>median</th>\n",
              "      <td>39.000000</td>\n",
              "      <td>13.179490</td>\n",
              "    </tr>\n",
              "    <tr>\n",
              "      <th>mean</th>\n",
              "      <td>39.186117</td>\n",
              "      <td>12.570205</td>\n",
              "    </tr>\n",
              "  </tbody>\n",
              "</table>\n",
              "</div>"
            ],
            "text/plain": [
              "              age    ttl_exp\n",
              "min     34.000000   0.115385\n",
              "max     45.000000  28.884610\n",
              "median  39.000000  13.179490\n",
              "mean    39.186117  12.570205"
            ]
          },
          "metadata": {},
          "execution_count": 46
        }
      ]
    },
    {
      "cell_type": "code",
      "metadata": {
        "id": "obgDWhKN1kFB"
      },
      "source": [
        "import matplotlib.pyplot as plt\n"
      ],
      "execution_count": null,
      "outputs": []
    },
    {
      "cell_type": "code",
      "metadata": {
        "colab": {
          "base_uri": "https://localhost:8080/",
          "height": 606
        },
        "id": "sq6DYc90shm9",
        "outputId": "aac597e7-2de4-482f-d43b-d8a319a00af3"
      },
      "source": [
        "a= collab.hist(figsize = (10,10))"
      ],
      "execution_count": null,
      "outputs": [
        {
          "output_type": "display_data",
          "data": {
            "image/png": "[encoded data removed]",
            "text/plain": [
              "<Figure size 720x720 with 9 Axes>"
            ]
          },
          "metadata": {
            "needs_background": "light"
          }
        }
      ]
    },
    {
      "cell_type": "code",
      "metadata": {
        "colab": {
          "base_uri": "https://localhost:8080/",
          "height": 315
        },
        "id": "lHfFWctABdGm",
        "outputId": "0ddf7776-bc19-4925-cb95-5c9fc7a46242"
      },
      "source": [
        "collab.hist('ttl_exp')"
      ],
      "execution_count": null,
      "outputs": [
        {
          "output_type": "execute_result",
          "data": {
            "text/plain": [
              "array([[<matplotlib.axes._subplots.AxesSubplot object at 0x7f24ee6f9d90>]],\n",
              "      dtype=object)"
            ]
          },
          "metadata": {},
          "execution_count": 80
        },
        {
          "output_type": "display_data",
          "data": {
            "image/png": "[encoded data removed]",
            "text/plain": [
              "<Figure size 432x288 with 1 Axes>"
            ]
          },
          "metadata": {
            "needs_background": "light"
          }
        }
      ]
    },
    {
      "cell_type": "code",
      "metadata": {
        "id": "VyRdR8BVjvMy"
      },
      "source": [
        "collab.hist(coll)"
      ],
      "execution_count": null,
      "outputs": []
    },
    {
      "cell_type": "code",
      "metadata": {
        "colab": {
          "base_uri": "https://localhost:8080/",
          "height": 282
        },
        "id": "GY06xf6Xzm8c",
        "outputId": "55907229-fd5c-4b34-d6a8-81fb905a28c3"
      },
      "source": [
        "collab.plot.hist(10,10)"
      ],
      "execution_count": null,
      "outputs": [
        {
          "output_type": "execute_result",
          "data": {
            "text/plain": [
              "<matplotlib.axes._subplots.AxesSubplot at 0x7f24ee431110>"
            ]
          },
          "metadata": {},
          "execution_count": 48
        },
        {
          "output_type": "display_data",
          "data": {
            "image/png": "[encoded data removed]",
            "text/plain": [
              "<Figure size 432x288 with 1 Axes>"
            ]
          },
          "metadata": {
            "needs_background": "light"
          }
        }
      ]
    },
    {
      "cell_type": "code",
      "metadata": {
        "colab": {
          "base_uri": "https://localhost:8080/"
        },
        "id": "5raN6mpTAoQx",
        "outputId": "100628a1-17e1-40e8-d8c4-58ab44e5751d"
      },
      "source": [
        "collab.pivot_table"
      ],
      "execution_count": null,
      "outputs": [
        {
          "output_type": "execute_result",
          "data": {
            "text/plain": [
              "<bound method DataFrame.pivot_table of        id   age  race  collgrad  south    ttl_exp  hours   ln_wage\n",
              "0       1  44.0     1         1      1  18.326920     40  2.165596\n",
              "1       2  43.0     1         0      0  16.038460      2  2.555866\n",
              "2       3  38.0     1         0      0   4.532051     30  1.539409\n",
              "3       4  37.0     1         0      0   8.467949     40  1.105033\n",
              "4       5  35.0     1         0      1  11.929490     40  1.862719\n",
              "..    ...   ...   ...       ...    ...        ...    ...       ...\n",
              "995   996  36.0     2         0      0  16.243590     40  2.164424\n",
              "996   997  44.0     2         0      1  14.730770     40  1.757358\n",
              "997   998  39.0     2         0      0  14.897440     40  1.798180\n",
              "998   999  35.0     2         0      1  10.423080     40  1.030309\n",
              "999  1000  41.0     1         0      1  15.576920     40  2.407714\n",
              "\n",
              "[1000 rows x 8 columns]>"
            ]
          },
          "metadata": {},
          "execution_count": 49
        }
      ]
    },
    {
      "cell_type": "code",
      "metadata": {
        "colab": {
          "base_uri": "https://localhost:8080/",
          "height": 199
        },
        "id": "QwPeRaawxeXs",
        "outputId": "c3bae95d-7016-4316-b1c5-1680af2509ee"
      },
      "source": [
        "plt.bar(Histogram)\n",
        "\n",
        "\n"
      ],
      "execution_count": null,
      "outputs": [
        {
          "output_type": "error",
          "ename": "TypeError",
          "evalue": "ignored",
          "traceback": [
            "\u001b[0;31m---------------------------------------------------------------------------\u001b[0m",
            "\u001b[0;31mTypeError\u001b[0m                                 Traceback (most recent call last)",
            "\u001b[0;32m<ipython-input-81-f359b30f55ef>\u001b[0m in \u001b[0;36m<module>\u001b[0;34m()\u001b[0m\n\u001b[0;32m----> 1\u001b[0;31m \u001b[0mplt\u001b[0m\u001b[0;34m.\u001b[0m\u001b[0mbar\u001b[0m\u001b[0;34m(\u001b[0m\u001b[0mHistogram\u001b[0m\u001b[0;34m)\u001b[0m\u001b[0;34m\u001b[0m\u001b[0;34m\u001b[0m\u001b[0m\n\u001b[0m\u001b[1;32m      2\u001b[0m \u001b[0;34m\u001b[0m\u001b[0m\n\u001b[1;32m      3\u001b[0m \u001b[0;34m\u001b[0m\u001b[0m\n",
            "\u001b[0;31mTypeError\u001b[0m: bar() missing 1 required positional argument: 'height'"
          ]
        }
      ]
    },
    {
      "cell_type": "code",
      "metadata": {
        "colab": {
          "base_uri": "https://localhost:8080/",
          "height": 304
        },
        "id": "1umngfc-61bR",
        "outputId": "7bdd2123-3344-4403-e60a-91d343ba10ea"
      },
      "source": [
        "\n",
        "collab.Histogram()"
      ],
      "execution_count": null,
      "outputs": [
        {
          "output_type": "error",
          "ename": "AttributeError",
          "evalue": "ignored",
          "traceback": [
            "\u001b[0;31m---------------------------------------------------------------------------\u001b[0m",
            "\u001b[0;31mAttributeError\u001b[0m                            Traceback (most recent call last)",
            "\u001b[0;32m<ipython-input-82-7d3857e069c1>\u001b[0m in \u001b[0;36m<module>\u001b[0;34m()\u001b[0m\n\u001b[1;32m      1\u001b[0m \u001b[0;34m\u001b[0m\u001b[0m\n\u001b[0;32m----> 2\u001b[0;31m \u001b[0mcollab\u001b[0m\u001b[0;34m.\u001b[0m\u001b[0mHistogram\u001b[0m\u001b[0;34m(\u001b[0m\u001b[0;34m)\u001b[0m\u001b[0;34m\u001b[0m\u001b[0;34m\u001b[0m\u001b[0m\n\u001b[0m",
            "\u001b[0;32m/usr/local/lib/python3.7/dist-packages/pandas/core/generic.py\u001b[0m in \u001b[0;36m__getattr__\u001b[0;34m(self, name)\u001b[0m\n\u001b[1;32m   5139\u001b[0m             \u001b[0;32mif\u001b[0m \u001b[0mself\u001b[0m\u001b[0;34m.\u001b[0m\u001b[0m_info_axis\u001b[0m\u001b[0;34m.\u001b[0m\u001b[0m_can_hold_identifiers_and_holds_name\u001b[0m\u001b[0;34m(\u001b[0m\u001b[0mname\u001b[0m\u001b[0;34m)\u001b[0m\u001b[0;34m:\u001b[0m\u001b[0;34m\u001b[0m\u001b[0;34m\u001b[0m\u001b[0m\n\u001b[1;32m   5140\u001b[0m                 \u001b[0;32mreturn\u001b[0m \u001b[0mself\u001b[0m\u001b[0;34m[\u001b[0m\u001b[0mname\u001b[0m\u001b[0;34m]\u001b[0m\u001b[0;34m\u001b[0m\u001b[0;34m\u001b[0m\u001b[0m\n\u001b[0;32m-> 5141\u001b[0;31m             \u001b[0;32mreturn\u001b[0m \u001b[0mobject\u001b[0m\u001b[0;34m.\u001b[0m\u001b[0m__getattribute__\u001b[0m\u001b[0;34m(\u001b[0m\u001b[0mself\u001b[0m\u001b[0;34m,\u001b[0m \u001b[0mname\u001b[0m\u001b[0;34m)\u001b[0m\u001b[0;34m\u001b[0m\u001b[0;34m\u001b[0m\u001b[0m\n\u001b[0m\u001b[1;32m   5142\u001b[0m \u001b[0;34m\u001b[0m\u001b[0m\n\u001b[1;32m   5143\u001b[0m     \u001b[0;32mdef\u001b[0m \u001b[0m__setattr__\u001b[0m\u001b[0;34m(\u001b[0m\u001b[0mself\u001b[0m\u001b[0;34m,\u001b[0m \u001b[0mname\u001b[0m\u001b[0;34m:\u001b[0m \u001b[0mstr\u001b[0m\u001b[0;34m,\u001b[0m \u001b[0mvalue\u001b[0m\u001b[0;34m)\u001b[0m \u001b[0;34m->\u001b[0m \u001b[0;32mNone\u001b[0m\u001b[0;34m:\u001b[0m\u001b[0;34m\u001b[0m\u001b[0;34m\u001b[0m\u001b[0m\n",
            "\u001b[0;31mAttributeError\u001b[0m: 'DataFrame' object has no attribute 'Histogram'"
          ]
        }
      ]
    },
    {
      "cell_type": "code",
      "metadata": {
        "colab": {
          "base_uri": "https://localhost:8080/",
          "height": 282
        },
        "id": "lBKV8uoETA9T",
        "outputId": "c2db6ecb-579f-4279-847f-b592f375dc8f"
      },
      "source": [
        "collab['ttl_exp'].hist()"
      ],
      "execution_count": null,
      "outputs": [
        {
          "output_type": "execute_result",
          "data": {
            "text/plain": [
              "<matplotlib.axes._subplots.AxesSubplot at 0x7f24eea58810>"
            ]
          },
          "metadata": {},
          "execution_count": 23
        },
        {
          "output_type": "display_data",
          "data": {
            "image/png": "[encoded data removed]",
            "text/plain": [
              "<Figure size 432x288 with 1 Axes>"
            ]
          },
          "metadata": {
            "needs_background": "light"
          }
        }
      ]
    },
    {
      "cell_type": "code",
      "metadata": {
        "colab": {
          "base_uri": "https://localhost:8080/",
          "height": 282
        },
        "id": "yhYTHAFYCl3U",
        "outputId": "5d887a18-e796-4295-b65d-74972f8568ec"
      },
      "source": [
        "collab['collgrad'].hist()"
      ],
      "execution_count": null,
      "outputs": [
        {
          "output_type": "execute_result",
          "data": {
            "text/plain": [
              "<matplotlib.axes._subplots.AxesSubplot at 0x7f24ee489a90>"
            ]
          },
          "metadata": {},
          "execution_count": 83
        },
        {
          "output_type": "display_data",
          "data": {
            "image/png": "[encoded data removed]",
            "text/plain": [
              "<Figure size 432x288 with 1 Axes>"
            ]
          },
          "metadata": {
            "needs_background": "light"
          }
        }
      ]
    },
    {
      "cell_type": "code",
      "metadata": {
        "colab": {
          "base_uri": "https://localhost:8080/",
          "height": 165
        },
        "id": "BXklT8oKL_DN",
        "outputId": "b2462784-ec99-409b-f4fc-42a7ddcb43a0"
      },
      "source": [
        "collab(['age'],['collgrad']).hist()"
      ],
      "execution_count": null,
      "outputs": [
        {
          "output_type": "error",
          "ename": "TypeError",
          "evalue": "ignored",
          "traceback": [
            "\u001b[0;31m---------------------------------------------------------------------------\u001b[0m",
            "\u001b[0;31mTypeError\u001b[0m                                 Traceback (most recent call last)",
            "\u001b[0;32m<ipython-input-7-e55f9fa5c671>\u001b[0m in \u001b[0;36m<module>\u001b[0;34m()\u001b[0m\n\u001b[0;32m----> 1\u001b[0;31m \u001b[0mcollab\u001b[0m\u001b[0;34m(\u001b[0m\u001b[0;34m[\u001b[0m\u001b[0;34m'age'\u001b[0m\u001b[0;34m]\u001b[0m\u001b[0;34m,\u001b[0m\u001b[0;34m[\u001b[0m\u001b[0;34m'collgrad'\u001b[0m\u001b[0;34m]\u001b[0m\u001b[0;34m)\u001b[0m\u001b[0;34m.\u001b[0m\u001b[0mhist\u001b[0m\u001b[0;34m(\u001b[0m\u001b[0;34m)\u001b[0m\u001b[0;34m\u001b[0m\u001b[0;34m\u001b[0m\u001b[0m\n\u001b[0m",
            "\u001b[0;31mTypeError\u001b[0m: 'DataFrame' object is not callable"
          ]
        }
      ]
    },
    {
      "cell_type": "code",
      "metadata": {
        "id": "flODmmtut5FB",
        "colab": {
          "base_uri": "https://localhost:8080/",
          "height": 298
        },
        "outputId": "6c84604d-13c1-4265-e62a-31f0b95985e6"
      },
      "source": [
        "plt.boxplot(collab['ttl_exp'])\n",
        "plt.title(\"Histogram of College Grade\")"
      ],
      "execution_count": null,
      "outputs": [
        {
          "output_type": "execute_result",
          "data": {
            "text/plain": [
              "Text(0.5, 1.0, 'Histogram of College Grade')"
            ]
          },
          "metadata": {},
          "execution_count": 55
        },
        {
          "output_type": "display_data",
          "data": {
            "image/png": "[encoded data removed]",
            "text/plain": [
              "<Figure size 432x288 with 1 Axes>"
            ]
          },
          "metadata": {
            "needs_background": "light"
          }
        }
      ]
    },
    {
      "cell_type": "code",
      "metadata": {
        "id": "b14GnCaJRJXB"
      },
      "source": [
        "#Box plot"
      ],
      "execution_count": null,
      "outputs": []
    },
    {
      "cell_type": "code",
      "metadata": {
        "colab": {
          "base_uri": "https://localhost:8080/",
          "height": 541
        },
        "id": "b_HBphUJ1ZXm",
        "outputId": "efd277b8-a9fb-46f7-a030-ee8134cdd3b6"
      },
      "source": [
        "import plotly.express as px\n",
        "px.box(collab, x ='age',y='ln_wage')"
      ],
      "execution_count": null,
      "outputs": [
        {
          "output_type": "display_data",
          "data": {
            "text/html": [
              "<html>\n",
              "<head><meta charset=\"utf-8\" /></head>\n",
              "<body>\n",
              "    <div>\n",
              "            <script src=\"https://cdnjs.cloudflare.com/ajax/libs/mathjax/2.7.5/MathJax.js?config=TeX-AMS-MML_SVG\"></script><script type=\"text/javascript\">if (window.MathJax) {MathJax.Hub.Config({SVG: {font: \"STIX-Web\"}});}</script>\n",
              "                <script type=\"text/javascript\">window.PlotlyConfig = {MathJaxConfig: 'local'};</script>\n",
              "        <script src=\"https://cdn.plot.ly/plotly-latest.min.js\"></script>    \n",
              "            <div id=\"4225cdb4-d608-4fce-bba0-54e025523110\" class=\"plotly-graph-div\" style=\"height:525px; width:100%;\"></div>\n",
              "            <script type=\"text/javascript\">\n",
              "                \n",
              "                    window.PLOTLYENV=window.PLOTLYENV || {};\n",
              "                    \n",
              "                if (document.getElementById(\"4225cdb4-d608-4fce-bba0-54e025523110\")) {\n",
              "                    Plotly.newPlot(\n",
              "                        '4225cdb4-d608-4fce-bba0-54e025523110',\n",
              "                        [{\"alignmentgroup\": \"True\", \"hoverlabel\": {\"namelength\": 0}, \"hovertemplate\": \"age=%{x}<br>ln_wage=%{y}\", \"legendgroup\": \"\", \"marker\": {\"color\": \"#636efa\"}, \"name\": \"\", \"notched\": false, \"offsetgroup\": \"\", \"orientation\": \"v\", \"showlegend\": false, \"type\": \"box\", \"x\": [44.0, 43.0, 38.0, 37.0, 35.0, 41.0, 36.0, 41.0, 35.0, 40.0, 43.0, 38.0, 36.0, 45.0, 43.0, 41.0, 34.0, 43.0, 45.0, 35.0, 39.0, 36.0, 41.0, 36.0, 35.0, 40.0, 38.0, 37.0, 39.0, 41.0, 42.0, 35.0, 39.0, 37.0, 39.0, 43.0, 39.0, 41.0, 40.0, 36.0, 35.0, 44.0, 40.0, 37.0, 39.0, 40.0, 36.0, 45.0, 41.0, 35.0, 36.0, 40.0, 39.0, 38.0, 37.0, 41.0, 35.0, 38.0, 41.0, 35.0, 40.0, 40.0, 38.0, 35.0, 37.0, 36.0, 39.0, 41.0, 38.0, 36.0, 40.0, 37.0, null, 37.0, null, 37.0, null, 37.0, 37.0, 45.0, 43.0, 43.0, 36.0, 36.0, 36.0, 45.0, 37.0, 41.0, 37.0, 40.0, 45.0, 36.0, 45.0, 39.0, 35.0, 38.0, 41.0, 38.0, 35.0, 35.0, 36.0, 37.0, 42.0, 36.0, 35.0, 38.0, 35.0, 38.0, 39.0, 40.0, 37.0, 40.0, 41.0, 39.0, 45.0, 43.0, 40.0, 40.0, 41.0, 37.0, 45.0, 40.0, 40.0, 40.0, 45.0, 41.0, 42.0, 42.0, 37.0, 35.0, 44.0, 43.0, 44.0, 43.0, 45.0, 39.0, 35.0, 39.0, 35.0, 44.0, 41.0, 41.0, 36.0, 44.0, 44.0, 39.0, 43.0, 41.0, 37.0, 38.0, 40.0, 35.0, 36.0, 36.0, 35.0, 35.0, 37.0, 42.0, 38.0, 37.0, 40.0, 36.0, 39.0, 37.0, 44.0, 35.0, 41.0, 44.0, 39.0, 36.0, 36.0, 45.0, 41.0, 35.0, 40.0, 37.0, 35.0, 38.0, 37.0, 34.0, 41.0, 39.0, 37.0, 43.0, 38.0, 37.0, 43.0, 40.0, 39.0, 36.0, 34.0, 36.0, 41.0, 39.0, 41.0, 38.0, 41.0, 36.0, 44.0, 38.0, 36.0, 34.0, 36.0, 36.0, 43.0, 34.0, 39.0, 37.0, 37.0, 44.0, 39.0, 35.0, 39.0, 40.0, 43.0, 36.0, 44.0, 37.0, 35.0, null, 36.0, 39.0, 41.0, 35.0, 39.0, 40.0, 35.0, 38.0, 37.0, 37.0, 40.0, 36.0, 37.0, 41.0, 43.0, 45.0, 41.0, 41.0, 45.0, 38.0, 34.0, 35.0, 37.0, 35.0, 35.0, 34.0, 44.0, 43.0, 45.0, 40.0, 35.0, 38.0, 44.0, 35.0, 36.0, 34.0, 42.0, 35.0, 37.0, 42.0, 40.0, 42.0, 37.0, 36.0, 39.0, 40.0, 37.0, 36.0, 41.0, 42.0, 42.0, 40.0, 44.0, 40.0, 40.0, 39.0, 38.0, 37.0, 37.0, 45.0, 41.0, 36.0, 39.0, 40.0, 44.0, 38.0, 34.0, 44.0, 36.0, 40.0, 41.0, 45.0, 45.0, 36.0, 42.0, 36.0, 35.0, 35.0, 40.0, 39.0, 38.0, 44.0, 44.0, 35.0, 35.0, 37.0, 42.0, 41.0, 38.0, 39.0, 37.0, 38.0, 35.0, 39.0, 36.0, 35.0, 41.0, 42.0, 39.0, 35.0, 39.0, 39.0, 39.0, 37.0, 44.0, 43.0, 44.0, 35.0, 38.0, 39.0, 42.0, 39.0, 45.0, 37.0, 40.0, 42.0, 42.0, 35.0, 36.0, 34.0, 44.0, 36.0, 35.0, 41.0, 36.0, 45.0, 35.0, 38.0, 38.0, 35.0, 42.0, 37.0, 44.0, 39.0, 36.0, 39.0, 35.0, 43.0, 41.0, 39.0, 43.0, 41.0, 41.0, 44.0, 38.0, 35.0, 36.0, 39.0, 45.0, 37.0, 36.0, 37.0, 41.0, 42.0, 40.0, 38.0, 43.0, 35.0, 44.0, 35.0, 39.0, 40.0, 40.0, 43.0, 40.0, 40.0, 34.0, 36.0, 43.0, 35.0, 37.0, 42.0, 37.0, 35.0, 44.0, 37.0, 40.0, 37.0, 40.0, 38.0, 38.0, 45.0, 38.0, 40.0, 36.0, 36.0, 42.0, 42.0, 44.0, 37.0, 41.0, 38.0, 44.0, 39.0, 36.0, 44.0, 40.0, 35.0, 43.0, 43.0, 39.0, 36.0, 38.0, 35.0, 34.0, 43.0, 41.0, 45.0, 36.0, 40.0, 36.0, 42.0, 39.0, null, 38.0, 35.0, 38.0, 36.0, 36.0, 39.0, 40.0, 37.0, 42.0, 36.0, 39.0, 36.0, 35.0, 34.0, 36.0, 44.0, 42.0, 40.0, 37.0, 43.0, 41.0, 40.0, 45.0, 37.0, 41.0, 44.0, 42.0, 36.0, 34.0, 41.0, 40.0, 41.0, 35.0, 42.0, 44.0, 39.0, 41.0, 41.0, 41.0, 44.0, 39.0, 40.0, 41.0, 43.0, 40.0, 44.0, 44.0, 42.0, 44.0, 35.0, 42.0, 39.0, 35.0, 39.0, 37.0, 44.0, 39.0, 38.0, 35.0, 36.0, 34.0, 36.0, 41.0, 37.0, 42.0, 38.0, 41.0, 41.0, 35.0, 43.0, 42.0, 38.0, 40.0, 35.0, 37.0, 42.0, 38.0, 39.0, 41.0, 37.0, 41.0, 35.0, 39.0, 37.0, 43.0, 39.0, 37.0, 35.0, 42.0, 37.0, 39.0, 43.0, 34.0, 36.0, 43.0, 38.0, 45.0, 40.0, 44.0, 43.0, 43.0, 42.0, 35.0, 36.0, 43.0, 35.0, 42.0, 43.0, 36.0, 34.0, 43.0, 38.0, 42.0, 36.0, 38.0, 44.0, 39.0, 41.0, 39.0, 39.0, 35.0, 37.0, 44.0, 35.0, 36.0, 35.0, 39.0, 43.0, 38.0, 38.0, 36.0, 41.0, 40.0, 41.0, 41.0, 41.0, 38.0, 42.0, 38.0, 42.0, 37.0, 44.0, 44.0, 35.0, 39.0, 38.0, 43.0, 39.0, 35.0, 43.0, 38.0, 40.0, 36.0, 44.0, 41.0, 35.0, 43.0, 40.0, 36.0, 39.0, 45.0, 43.0, 36.0, 44.0, 35.0, 35.0, 40.0, 34.0, 37.0, 39.0, 44.0, 38.0, 45.0, 41.0, 45.0, 45.0, 41.0, 39.0, 36.0, 43.0, 40.0, 39.0, 35.0, 37.0, 43.0, 44.0, 43.0, 43.0, 44.0, 43.0, 44.0, 42.0, 42.0, 41.0, 39.0, 40.0, 35.0, 39.0, 36.0, 41.0, 37.0, 45.0, 44.0, 43.0, 37.0, 41.0, 39.0, 39.0, 38.0, 38.0, 41.0, 34.0, 38.0, 43.0, 37.0, 41.0, 45.0, 44.0, 37.0, 43.0, 41.0, 39.0, 39.0, 37.0, 41.0, 43.0, 37.0, 35.0, 44.0, 34.0, 41.0, 39.0, 35.0, 38.0, 38.0, 42.0, 42.0, 40.0, 37.0, 34.0, 37.0, 35.0, 44.0, 42.0, 35.0, 36.0, 41.0, 40.0, 41.0, 36.0, 38.0, 37.0, 35.0, 36.0, 38.0, 37.0, 42.0, 43.0, 35.0, 44.0, 43.0, 44.0, 35.0, 41.0, 41.0, 42.0, 38.0, 45.0, 38.0, 38.0, 36.0, 42.0, 43.0, 38.0, 38.0, 40.0, 35.0, 35.0, 39.0, 38.0, 39.0, 38.0, 39.0, 44.0, 43.0, 37.0, 37.0, 41.0, 38.0, 35.0, 41.0, 36.0, 34.0, 37.0, 36.0, 38.0, 43.0, 38.0, 35.0, 43.0, 45.0, 40.0, 45.0, 45.0, 41.0, 34.0, 37.0, 35.0, 37.0, 35.0, 43.0, 35.0, 43.0, 39.0, 39.0, 40.0, 45.0, 35.0, 37.0, 40.0, null, 35.0, 35.0, 42.0, 40.0, 43.0, 40.0, 43.0, 38.0, 41.0, 35.0, 36.0, 38.0, 38.0, 43.0, 41.0, 39.0, 41.0, 37.0, 44.0, 36.0, 36.0, 35.0, 43.0, 40.0, 43.0, 39.0, 45.0, 43.0, 36.0, 38.0, 43.0, 37.0, 38.0, 37.0, 42.0, 37.0, 39.0, 41.0, 45.0, 37.0, 39.0, 42.0, 40.0, 41.0, 41.0, 42.0, 44.0, 42.0, 40.0, 39.0, 38.0, 41.0, 42.0, 37.0, 35.0, 40.0, 40.0, 36.0, 36.0, 36.0, 38.0, 35.0, 41.0, 36.0, 37.0, 36.0, 35.0, 39.0, 43.0, 35.0, 40.0, 39.0, 44.0, 41.0, 39.0, 35.0, 36.0, 35.0, 39.0, 36.0, 44.0, 44.0, 43.0, 41.0, 39.0, 35.0, 36.0, 38.0, 36.0, 37.0, 39.0, 41.0, 41.0, 45.0, 42.0, 38.0, 35.0, 41.0, 38.0, 37.0, 42.0, 41.0, 40.0, 36.0, 39.0, 35.0, 41.0, 43.0, 36.0, 41.0, 36.0, 43.0, 38.0, 37.0, 44.0, 41.0, 41.0, 35.0, 35.0, 41.0, 36.0, 41.0, 40.0, 44.0, 38.0, 39.0, 36.0, 38.0, 37.0, 37.0, 35.0, 37.0, 37.0, 39.0, 38.0, 34.0, 41.0, 36.0, 44.0, 41.0, 35.0, 42.0, 41.0, 35.0, 42.0, 44.0, 40.0, 41.0, 36.0, 45.0, 35.0, 40.0, 42.0, 35.0, 43.0, 38.0, 42.0, 45.0, 39.0, 37.0, 42.0, 38.0, 40.0, 35.0, 42.0, 43.0, 42.0, 38.0, 41.0, 43.0, 37.0, 41.0, 39.0, 36.0, 41.0, 40.0, 36.0, 40.0, 38.0, 35.0, 44.0, 41.0, 36.0, 43.0, 36.0, 39.0, 37.0, 35.0, 41.0, 42.0, 42.0, 42.0, 40.0, 39.0, 35.0, 43.0, 38.0, 39.0, 44.0, 36.0, 35.0, 39.0, 34.0, 43.0, 44.0, 37.0, 43.0, 34.0, 39.0, 39.0, 38.0, 37.0, 35.0, 37.0, 43.0, 41.0, 35.0, 35.0, 40.0, 44.0, 35.0, 34.0, 43.0, 39.0, 40.0, 40.0, 39.0, 35.0, 37.0, 37.0, 40.0, 42.0, 40.0, 43.0, 39.0, 43.0, 40.0, 39.0, 37.0, 38.0, 36.0, 44.0, 39.0, 35.0, 41.0], \"x0\": \" \", \"xaxis\": \"x\", \"y\": [2.165596, 2.555866, 1.539409, 1.105033, 1.8627189999999998, 1.341422, 1.7628979999999999, 2.788464, 1.6127770000000001, 1.658151, 1.392715, 2.123158, 1.615858, 1.8374009999999998, 1.6550790000000002, 1.83592, 2.307404, 1.969328, 1.273931, 1.824497, 2.684148, 1.533504, 2.2698490000000002, 1.6127770000000001, 3.6938190000000004, 1.536585, 2.737145, 2.150958, 2.074801, 1.83592, 2.2698490000000002, 1.7642790000000002, 1.848873, 1.6535990000000003, 1.105033, 1.267936, 2.0574619999999997, 1.063393, 2.26568, 1.615858, 1.951187, 1.018748, 2.309006, 2.460868, 1.264881, 2.181172, 1.7419619999999998, 1.532477, 1.441505, 2.067698, 2.3829990000000003, 2.680845, 1.5866360000000002, 2.278134, 1.6535389999999999, 2.085862, 2.451893, 2.739748, 1.125966, 1.615858, 2.181172, 1.7001990000000002, 1.575037, 1.237239, 1.615858, 1.506043, 1.716247, 2.0543709999999997, 2.2256240000000003, 0.6995677, 1.8231979999999999, 1.181994, 1.980502, 1.8231979999999999, 2.191122, 2.346746, 1.341422, 2.0471209999999997, 2.714471, 2.334283, 1.613925, 2.404316, 1.961084, 1.990452, 1.267936, 1.923343, 2.111529, 2.452586, 1.578978, 2.095812, 1.8627189999999998, 2.0068189999999997, 1.3250950000000001, 1.06421, 1.79818, 2.324879, 1.456123, 1.430455, 1.829231, 1.313441, 1.574325, 2.1241209999999997, 2.739748, 1.574325, 3.470675, 2.085862, 2.857358, 2.346686, 3.6938190000000004, 2.309006, 1.449095, 1.719136, 2.266515, 1.758746, 2.529068, 2.088857, 3.178121, 1.8048240000000002, 5.263916, 2.982766, 1.74899, 1.575037, 1.056243, 2.585424, 1.194264, 1.392715, 1.6550790000000002, 1.8564490000000002, 1.8627189999999998, 2.021857, 1.430455, 1.376585, 1.940836, 2.346746, 1.7779770000000001, 2.411562, 3.412407, 3.7073720000000003, 2.675143, 0.9243098, 0.9862493, 1.194264, 1.337202, 1.392715, 1.8231979999999999, 2.0471209999999997, 2.085862, 2.236004, 2.547707, 2.186612, 1.788802, 2.360459, 2.148295, 1.099209, 2.451893, 2.483295, 1.6778939999999998, 1.392715, 2.739748, 1.863967, 2.819671, 2.309006, 2.494655, 1.9292080000000003, 2.788464, 1.02499, 1.488025, 2.320934, 2.507857, 1.4792450000000001, 2.14892, 1.392715, 2.2698490000000002, 2.0366720000000003, 1.88863, 2.606439, 1.667311, 1.928037, 1.392715, 1.133944, 1.6550790000000002, 2.6397470000000003, 1.7901479999999999, 1.978276, 1.733464, 1.469675, 2.308205, 2.24372, 0.9922369000000001, 2.429452, 2.364251, 3.6938190000000004, 1.576702, 2.207194, 1.0299770000000001, 1.3725120000000002, 1.9442979999999999, 1.8627189999999998, 1.775252, 2.491327, 1.467822, 2.085862, 2.3025849999999997, 1.982721, 2.026112, 1.680897, 1.811425, 1.575037, 1.460373, 1.194264, 0.9079761999999999, 1.983829, 2.72138, 2.242866, 3.407618, 2.321724, 1.8564490000000002, 1.935039, 1.575037, 2.0471209999999997, 2.324091, 2.181172, 1.697254, 2.464298, 2.261495, 2.0977900000000003, 0.6248441, 1.3250950000000001, 0.9922369000000001, 0.9922369000000001, 2.021857, 2.0471209999999997, 1.596471, 2.657406, 1.02499, 1.441505, 1.2761799999999999, 1.851405, 2.452586, 0.7690932, 1.9362, 2.714471, 1.3725120000000002, 2.488657, 1.133944, 1.7291869999999998, 1.260325, 1.368422, 1.84379, 1.07378, 1.575037, 2.39555, 3.981501, 1.568347, 2.186612, 1.615858, 2.239441, 2.444934, 2.64662, 2.0425169999999997, 1.575037, 1.6928189999999999, 2.845265, 1.74899, 2.123602, 2.2583349999999998, 2.181172, 2.488657, 2.403588, 2.672168, 1.980502, 1.3708049999999998, 1.575037, 2.0471209999999997, 1.03604, 1.836159, 2.5163450000000003, 2.451893, 2.334283, 2.447027, 2.5163450000000003, 2.853253, 2.146957, 1.184459, 1.499448, 1.506043, 1.486205, 1.441505, 1.9670779999999999, 0.8818893, 1.392715, 1.850139, 2.3829990000000003, 1.79818, 1.588281, 1.6519970000000002, 1.6898520000000001, 1.169571, 3.5114980000000005, 1.7684080000000002, 1.287354, 2.182989, 1.5997290000000002, 2.2290959999999997, 1.441505, 2.085862, 1.6928189999999999, 2.0471209999999997, 1.575037, 1.144253, 2.3058, 2.6885369999999997, 2.362736, 1.8539299999999999, 0.9922369000000001, 1.0780040000000002, 1.024545, 1.661214, 2.547707, 1.535949, 1.7669270000000001, 1.2534530000000002, 1.575037, 2.801951, 1.912698, 1.7118950000000002, 1.484713, 2.186612, 0.9922369000000001, 2.400673, 1.7118950000000002, 1.535949, 2.647691, 1.7779770000000001, 2.3634939999999998, 1.021651, 1.9466, 1.7642790000000002, 1.883746, 1.6222379999999998, 2.328023, 1.7871299999999999, 1.313441, 0.9663358, 1.402665, 2.803214, 1.191821, 1.059391, 1.530736, 1.382664, 0.868466, 1.440405, 1.30279, 1.392715, 1.6222379999999998, 2.1516490000000004, 1.4638959999999999, 2.204533, 1.320144, 2.018242, 2.042954, 2.278134, 1.169571, 2.142242, 2.367275, 2.2454259999999997, 2.1086009999999997, 1.828386, 1.507827, 1.615858, 1.576702, 1.03604, 1.546294, 1.535949, 1.619053, 1.392715, 2.566435, 2.418039, 1.0780040000000002, 1.6943, 1.2984040000000001, 1.923343, 2.739748, 1.7901479999999999, 1.430455, 2.400673, 2.085862, 2.403588, 1.79818, 1.995769, 1.877607, 1.2301959999999998, 1.8910619999999998, 1.980502, 1.566668, 0.7373081, 1.260325, 0.140951, 1.824497, 2.14927, 1.6928189999999999, 2.451893, 1.441505, 1.6550790000000002, 0.8818893, 1.431935, 1.392715, 1.6238270000000001, 1.357884, 2.095812, 1.676389, 2.465667, 2.1902220000000003, 1.07378, 1.007052, 1.06421, 1.094309, 1.6411360000000002, 2.0543709999999997, 1.03604, 0.6580343000000001, 1.2534530000000002, 1.105033, 1.8231979999999999, 1.055843, 1.123527, 1.287354, 1.13135, 3.6938190000000004, 0.6376917, 3.6938190000000004, 1.9557529999999999, 1.418382, 1.836159, 1.918626, 1.941991, 1.07378, 1.414476, 1.480726, 1.050224, 2.376764, 1.643557, 2.429452, 1.758746, 1.514932, 1.604595, 2.123602, 1.392715, 1.758746, 2.191122, 2.317767, 1.8231979999999999, 1.7291869999999998, 1.7291869999999998, 2.532469, 1.430455, 1.948896, 1.142773, 1.719136, 2.280606, 1.465965, 3.6938190000000004, 1.357884, 2.532469, 0.9604517, 1.7642790000000002, 2.309006, 2.055403, 0.8818893, 1.404643, 1.912698, 1.952331, 1.392715, 2.3829990000000003, 2.346686, 1.099209, 2.442837, 0.5942071999999999, 1.579392, 1.980502, 1.6550790000000002, 1.441505, 2.111529, 1.7248919999999999, 0.9922369000000001, 2.442837, 1.441505, 2.0543709999999997, 2.149775, 1.392715, 1.45475, 1.615858, 2.3829990000000003, 2.451893, 1.115744, 1.353974, 1.628577, 1.8627189999999998, 1.863967, 1.416431, 1.584986, 1.915073, 2.203645, 0.961932, 1.7628979999999999, 2.1644240000000003, 1.952331, 2.0471209999999997, 1.576648, 0.8818893, 1.430455, 1.248844, 1.493465, 1.4843819999999999, 2.371041, 1.607826, 1.7291869999999998, 1.848873, 1.287354, 1.993746, 2.0471209999999997, 2.320934, 0.7387878999999999, 1.923343, 1.919034, 1.208792, 1.4792450000000001, 1.625412, 1.3704690000000002, 1.460373, 1.337202, 1.615858, 1.392715, 1.105033, 2.154455, 1.4357739999999999, 2.085862, 1.95085, 1.7291869999999998, 2.147897, 3.2252959999999997, 1.0299770000000001, 1.6222379999999998, 1.952331, 1.2073120000000002, 0.8445333, 3.6938190000000004, 1.980502, 1.850139, 2.7303439999999997, 2.57137, 1.8101080000000003, 1.392715, 1.351181, 2.5163450000000003, 2.1609689999999997, 1.362255, 2.547707, 1.1311200000000001, 1.6535389999999999, 2.345916, 2.217767, 2.0471209999999997, 2.727716, 1.969328, 1.7176919999999998, 2.268184, 2.348226, 2.309006, 2.074801, 2.922677, 1.535949, 2.26735, 2.181172, 1.3136709999999998, 1.79818, 1.940836, 2.3904009999999998, 2.0068189999999997, 2.207194, 1.838682, 1.968204, 1.378615, 2.085862, 2.0068189999999997, 2.442137, 4.204644999999999, 1.79818, 2.845265, 1.309333, 0.9680665999999999, 1.169571, 1.467822, 1.984935, 1.2073120000000002, 1.639575, 3.6938190000000004, 2.491327, 1.719136, 2.018242, 1.552673, 2.391875, 2.159112, 2.4553540000000003, 2.324879, 2.134652, 1.102363, 1.638164, 1.824497, 2.412283, 2.134652, 2.607724, 2.451893, 2.871588, 1.8627189999999998, 0.961932, 1.07378, 1.7291869999999998, 2.218913, 2.42162, 2.585448, 2.1241209999999997, 1.574325, 2.053338, 2.5775040000000002, 1.862007, 1.976261, 1.829678, 1.9115080000000002, 2.181172, 2.209848, 2.6885369999999997, 2.076821, 2.142242, 2.922243, 2.247322, 2.491327, 1.5411350000000001, 2.460075, 1.9055380000000002, 2.106645, 1.7642790000000002, 2.023986, 2.508512, 2.203645, 2.348226, 2.702128, 1.507827, 1.940836, 2.661913, 1.430455, 2.186612, 2.553989, 2.0122150000000003, 2.309006, 2.0717630000000002, 2.2290959999999997, 2.090849, 2.186612, 2.160041, 2.81675, 1.697254, 1.6550790000000002, 2.085862, 3.337625, 1.6535389999999999, 1.3308389999999999, 1.144253, 2.181172, 1.659978, 1.575037, 1.287354, 2.540118, 2.452586, 1.536585, 1.6535990000000003, 2.259815, 2.834917, 3.470675, 1.169571, 1.644251, 1.154457, 1.392715, 1.940836, 2.178441, 2.278134, 2.0068189999999997, 2.334283, 1.574325, 2.547707, 2.261495, 2.049198, 3.2505740000000003, 1.169571, 2.278134, 1.536585, 1.441505, 2.197403, 2.0068189999999997, 2.367275, 2.739748, 2.039818, 1.2301959999999998, 2.309006, 1.467822, 1.6127770000000001, 1.6913369999999999, 1.760132, 2.334283, 2.445632, 2.451893, 1.7684080000000002, 1.9292080000000003, 2.123602, 2.2290959999999997, 2.320143, 2.399211, 3.0626830000000003, 2.0079, 1.923343, 1.90793, 2.367275, 3.2505740000000003, 2.553363, 1.892277, 1.255871, 1.574325, 1.642695, 2.355125, 1.206385, 2.622939, 2.329592, 2.005736, 3.0201689999999997, 1.4689649999999999, 1.8374009999999998, 2.324091, 1.968204, 1.3136709999999998, 1.2534530000000002, 3.6938190000000004, 1.878838, 2.606439, 2.962996, 1.872668, 2.055403, 2.278134, 1.941991, 0.9922369000000001, 2.5176439999999998, 1.8564490000000002, 2.411562, 1.07378, 1.941991, 1.21765, 1.574325, 1.799512, 1.707525, 1.614257, 1.563301, 1.093583, 1.791491, 1.351181, 1.796846, 1.313441, 2.962996, 1.591566, 2.2698490000000002, 1.872668, 2.412283, 2.0471209999999997, 1.941991, 2.389663, 2.200974, 2.085862, 1.9115080000000002, 1.392715, 2.0471209999999997, 2.186612, 2.176616, 2.181172, 1.857706, 1.9336509999999998, 2.189321, 2.146957, 1.915073, 1.351181, 1.6550790000000002, 1.6550790000000002, 2.0717630000000002, 2.111529, 1.7291869999999998, 2.2698490000000002, 2.172039, 1.895909, 1.800202, 2.516995, 1.3250950000000001, 2.1086009999999997, 1.872668, 1.8934900000000001, 3.656079, 0.5911255, 2.526694, 3.117265, 1.7118950000000002, 2.501937, 2.348226, 2.491327, 2.400673, 1.337202, 1.575037, 1.83592, 1.4792450000000001, 1.84379, 1.169571, 1.7628979999999999, 1.9004590000000001, 1.615858, 2.03877, 1.676389, 2.655145, 1.6126530000000001, 0.9945068000000001, 0.8445333, 2.5163450000000003, 2.095812, 1.984935, 1.248844, 1.7291869999999998, 2.547707, 1.872668, 2.281429, 1.430455, 2.2290959999999997, 2.48195, 0.9922369000000001, 1.156018, 1.6898520000000001, 3.576036, 2.422334, 1.351181, 1.8399619999999999, 0.6793646, 1.8231979999999999, 1.799512, 2.566435, 1.441505, 1.2073120000000002, 1.431935, 1.365917, 1.392715, 1.852668, 1.9893509999999999, 2.264845, 2.348226, 2.324879, 2.191122, 1.02576, 2.309006, 1.799512, 1.615858, 2.2368650000000003, 1.554833, 1.878838, 2.404316, 1.883746, 1.79818, 1.4203299999999999, 1.3250950000000001, 2.085862, 1.347717, 1.392715, 1.449095, 1.287354, 1.615858, 1.8627189999999998, 2.324879, 1.575037, 1.639575, 2.180263, 1.239563, 0.9588503, 1.4376879999999999, 1.758746, 1.8231979999999999, 1.8934900000000001, 1.408588, 2.068715, 1.8361180000000001, 1.311504, 1.246532, 1.01494, 1.556533, 0.4653741, 1.2073120000000002, 1.6550790000000002, 1.8231979999999999, 1.7118950000000002, 1.7348849999999998, 1.215977, 2.6912700000000003, 1.149368, 2.192921, 2.334283, 2.354361, 1.973812, 1.3136709999999998, 3.656079, 2.520238, 2.400673, 2.085862, 1.923343, 2.2290959999999997, 0.8375886999999999, 1.6013540000000002, 1.941991, 2.085862, 1.5113860000000001, 2.278134, 2.142242, 1.744779, 1.7118950000000002, 0.9922369000000001, 2.1258340000000002, 1.399996, 1.708984, 1.2534530000000002, 0.7948779, 0.6995677, 1.232004, 1.2073120000000002, 1.2073120000000002, 2.0670319999999998, 1.441505, 0.5942071999999999, 1.5932030000000001, 1.615858, 1.13135, 1.0299770000000001, 1.43001, 1.9948419999999998, 2.066679, 1.6535990000000003, 1.021651, 2.86885, 1.239563, 1.1130010000000001, 1.105033, 0.9922369000000001, 0.3313982, 2.00248, 1.075261, 1.392715, 1.5113860000000001, 1.754329, 1.128749, 2.034569, 0.9922369000000001, 0.586485, 1.03604, 1.83592, 1.392715, 2.0122150000000003, 1.196699, 0.7193701, 1.392715, 2.503914, 1.923343, 3.2252959999999997, 1.3947129999999999, 1.8061479999999999, 4.204644999999999, 1.467822, 1.615858, 1.169571, 2.6753139999999997, 0.9922369000000001, 1.211193, 1.848873, 2.034569, 1.79818, 1.06421, 2.2290959999999997, 1.0299770000000001, 1.7118950000000002, 2.0471209999999997, 4.349082, 2.283072, 1.382664, 1.07378, 1.872668, 1.574325, 2.606439, 0.9996724, 2.1644240000000003, 1.7573580000000002, 1.79818, 1.030309, 2.407714], \"y0\": \" \", \"yaxis\": \"y\"}],\n",
              "                        {\"boxmode\": \"group\", \"legend\": {\"tracegroupgap\": 0}, \"margin\": {\"t\": 60}, \"template\": {\"data\": {\"bar\": [{\"error_x\": {\"color\": \"#2a3f5f\"}, \"error_y\": {\"color\": \"#2a3f5f\"}, \"marker\": {\"line\": {\"color\": \"#E5ECF6\", \"width\": 0.5}}, \"type\": \"bar\"}], \"barpolar\": [{\"marker\": {\"line\": {\"color\": \"#E5ECF6\", \"width\": 0.5}}, \"type\": \"barpolar\"}], \"carpet\": [{\"aaxis\": {\"endlinecolor\": \"#2a3f5f\", \"gridcolor\": \"white\", \"linecolor\": \"white\", \"minorgridcolor\": \"white\", \"startlinecolor\": \"#2a3f5f\"}, \"baxis\": {\"endlinecolor\": \"#2a3f5f\", \"gridcolor\": \"white\", \"linecolor\": \"white\", \"minorgridcolor\": \"white\", \"startlinecolor\": \"#2a3f5f\"}, \"type\": \"carpet\"}], \"choropleth\": [{\"colorbar\": {\"outlinewidth\": 0, \"ticks\": \"\"}, \"type\": \"choropleth\"}], \"contour\": [{\"colorbar\": {\"outlinewidth\": 0, \"ticks\": \"\"}, \"colorscale\": [[0.0, \"#0d0887\"], [0.1111111111111111, \"#46039f\"], [0.2222222222222222, \"#7201a8\"], [0.3333333333333333, \"#9c179e\"], [0.4444444444444444, \"#bd3786\"], [0.5555555555555556, \"#d8576b\"], [0.6666666666666666, \"#ed7953\"], [0.7777777777777778, \"#fb9f3a\"], [0.8888888888888888, \"#fdca26\"], [1.0, \"#f0f921\"]], \"type\": \"contour\"}], \"contourcarpet\": [{\"colorbar\": {\"outlinewidth\": 0, \"ticks\": \"\"}, \"type\": \"contourcarpet\"}], \"heatmap\": [{\"colorbar\": {\"outlinewidth\": 0, \"ticks\": \"\"}, \"colorscale\": [[0.0, \"#0d0887\"], [0.1111111111111111, \"#46039f\"], [0.2222222222222222, \"#7201a8\"], [0.3333333333333333, \"#9c179e\"], [0.4444444444444444, \"#bd3786\"], [0.5555555555555556, \"#d8576b\"], [0.6666666666666666, \"#ed7953\"], [0.7777777777777778, \"#fb9f3a\"], [0.8888888888888888, \"#fdca26\"], [1.0, \"#f0f921\"]], \"type\": \"heatmap\"}], \"heatmapgl\": [{\"colorbar\": {\"outlinewidth\": 0, \"ticks\": \"\"}, \"colorscale\": [[0.0, \"#0d0887\"], [0.1111111111111111, \"#46039f\"], [0.2222222222222222, \"#7201a8\"], [0.3333333333333333, \"#9c179e\"], [0.4444444444444444, \"#bd3786\"], [0.5555555555555556, \"#d8576b\"], [0.6666666666666666, \"#ed7953\"], [0.7777777777777778, \"#fb9f3a\"], [0.8888888888888888, \"#fdca26\"], [1.0, \"#f0f921\"]], \"type\": \"heatmapgl\"}], \"histogram\": [{\"marker\": {\"colorbar\": {\"outlinewidth\": 0, \"ticks\": \"\"}}, \"type\": \"histogram\"}], \"histogram2d\": [{\"colorbar\": {\"outlinewidth\": 0, \"ticks\": \"\"}, \"colorscale\": [[0.0, \"#0d0887\"], [0.1111111111111111, \"#46039f\"], [0.2222222222222222, \"#7201a8\"], [0.3333333333333333, \"#9c179e\"], [0.4444444444444444, \"#bd3786\"], [0.5555555555555556, \"#d8576b\"], [0.6666666666666666, \"#ed7953\"], [0.7777777777777778, \"#fb9f3a\"], [0.8888888888888888, \"#fdca26\"], [1.0, \"#f0f921\"]], \"type\": \"histogram2d\"}], \"histogram2dcontour\": [{\"colorbar\": {\"outlinewidth\": 0, \"ticks\": \"\"}, \"colorscale\": [[0.0, \"#0d0887\"], [0.1111111111111111, \"#46039f\"], [0.2222222222222222, \"#7201a8\"], [0.3333333333333333, \"#9c179e\"], [0.4444444444444444, \"#bd3786\"], [0.5555555555555556, \"#d8576b\"], [0.6666666666666666, \"#ed7953\"], [0.7777777777777778, \"#fb9f3a\"], [0.8888888888888888, \"#fdca26\"], [1.0, \"#f0f921\"]], \"type\": \"histogram2dcontour\"}], \"mesh3d\": [{\"colorbar\": {\"outlinewidth\": 0, \"ticks\": \"\"}, \"type\": \"mesh3d\"}], \"parcoords\": [{\"line\": {\"colorbar\": {\"outlinewidth\": 0, \"ticks\": \"\"}}, \"type\": \"parcoords\"}], \"pie\": [{\"automargin\": true, \"type\": \"pie\"}], \"scatter\": [{\"marker\": {\"colorbar\": {\"outlinewidth\": 0, \"ticks\": \"\"}}, \"type\": \"scatter\"}], \"scatter3d\": [{\"line\": {\"colorbar\": {\"outlinewidth\": 0, \"ticks\": \"\"}}, \"marker\": {\"colorbar\": {\"outlinewidth\": 0, \"ticks\": \"\"}}, \"type\": \"scatter3d\"}], \"scattercarpet\": [{\"marker\": {\"colorbar\": {\"outlinewidth\": 0, \"ticks\": \"\"}}, \"type\": \"scattercarpet\"}], \"scattergeo\": [{\"marker\": {\"colorbar\": {\"outlinewidth\": 0, \"ticks\": \"\"}}, \"type\": \"scattergeo\"}], \"scattergl\": [{\"marker\": {\"colorbar\": {\"outlinewidth\": 0, \"ticks\": \"\"}}, \"type\": \"scattergl\"}], \"scattermapbox\": [{\"marker\": {\"colorbar\": {\"outlinewidth\": 0, \"ticks\": \"\"}}, \"type\": \"scattermapbox\"}], \"scatterpolar\": [{\"marker\": {\"colorbar\": {\"outlinewidth\": 0, \"ticks\": \"\"}}, \"type\": \"scatterpolar\"}], \"scatterpolargl\": [{\"marker\": {\"colorbar\": {\"outlinewidth\": 0, \"ticks\": \"\"}}, \"type\": \"scatterpolargl\"}], \"scatterternary\": [{\"marker\": {\"colorbar\": {\"outlinewidth\": 0, \"ticks\": \"\"}}, \"type\": \"scatterternary\"}], \"surface\": [{\"colorbar\": {\"outlinewidth\": 0, \"ticks\": \"\"}, \"colorscale\": [[0.0, \"#0d0887\"], [0.1111111111111111, \"#46039f\"], [0.2222222222222222, \"#7201a8\"], [0.3333333333333333, \"#9c179e\"], [0.4444444444444444, \"#bd3786\"], [0.5555555555555556, \"#d8576b\"], [0.6666666666666666, \"#ed7953\"], [0.7777777777777778, \"#fb9f3a\"], [0.8888888888888888, \"#fdca26\"], [1.0, \"#f0f921\"]], \"type\": \"surface\"}], \"table\": [{\"cells\": {\"fill\": {\"color\": \"#EBF0F8\"}, \"line\": {\"color\": \"white\"}}, \"header\": {\"fill\": {\"color\": \"#C8D4E3\"}, \"line\": {\"color\": \"white\"}}, \"type\": \"table\"}]}, \"layout\": {\"annotationdefaults\": {\"arrowcolor\": \"#2a3f5f\", \"arrowhead\": 0, \"arrowwidth\": 1}, \"coloraxis\": {\"colorbar\": {\"outlinewidth\": 0, \"ticks\": \"\"}}, \"colorscale\": {\"diverging\": [[0, \"#8e0152\"], [0.1, \"#c51b7d\"], [0.2, \"#de77ae\"], [0.3, \"#f1b6da\"], [0.4, \"#fde0ef\"], [0.5, \"#f7f7f7\"], [0.6, \"#e6f5d0\"], [0.7, \"#b8e186\"], [0.8, \"#7fbc41\"], [0.9, \"#4d9221\"], [1, \"#276419\"]], \"sequential\": [[0.0, \"#0d0887\"], [0.1111111111111111, \"#46039f\"], [0.2222222222222222, \"#7201a8\"], [0.3333333333333333, \"#9c179e\"], [0.4444444444444444, \"#bd3786\"], [0.5555555555555556, \"#d8576b\"], [0.6666666666666666, \"#ed7953\"], [0.7777777777777778, \"#fb9f3a\"], [0.8888888888888888, \"#fdca26\"], [1.0, \"#f0f921\"]], \"sequentialminus\": [[0.0, \"#0d0887\"], [0.1111111111111111, \"#46039f\"], [0.2222222222222222, \"#7201a8\"], [0.3333333333333333, \"#9c179e\"], [0.4444444444444444, \"#bd3786\"], [0.5555555555555556, \"#d8576b\"], [0.6666666666666666, \"#ed7953\"], [0.7777777777777778, \"#fb9f3a\"], [0.8888888888888888, \"#fdca26\"], [1.0, \"#f0f921\"]]}, \"colorway\": [\"#636efa\", \"#EF553B\", \"#00cc96\", \"#ab63fa\", \"#FFA15A\", \"#19d3f3\", \"#FF6692\", \"#B6E880\", \"#FF97FF\", \"#FECB52\"], \"font\": {\"color\": \"#2a3f5f\"}, \"geo\": {\"bgcolor\": \"white\", \"lakecolor\": \"white\", \"landcolor\": \"#E5ECF6\", \"showlakes\": true, \"showland\": true, \"subunitcolor\": \"white\"}, \"hoverlabel\": {\"align\": \"left\"}, \"hovermode\": \"closest\", \"mapbox\": {\"style\": \"light\"}, \"paper_bgcolor\": \"white\", \"plot_bgcolor\": \"#E5ECF6\", \"polar\": {\"angularaxis\": {\"gridcolor\": \"white\", \"linecolor\": \"white\", \"ticks\": \"\"}, \"bgcolor\": \"#E5ECF6\", \"radialaxis\": {\"gridcolor\": \"white\", \"linecolor\": \"white\", \"ticks\": \"\"}}, \"scene\": {\"xaxis\": {\"backgroundcolor\": \"#E5ECF6\", \"gridcolor\": \"white\", \"gridwidth\": 2, \"linecolor\": \"white\", \"showbackground\": true, \"ticks\": \"\", \"zerolinecolor\": \"white\"}, \"yaxis\": {\"backgroundcolor\": \"#E5ECF6\", \"gridcolor\": \"white\", \"gridwidth\": 2, \"linecolor\": \"white\", \"showbackground\": true, \"ticks\": \"\", \"zerolinecolor\": \"white\"}, \"zaxis\": {\"backgroundcolor\": \"#E5ECF6\", \"gridcolor\": \"white\", \"gridwidth\": 2, \"linecolor\": \"white\", \"showbackground\": true, \"ticks\": \"\", \"zerolinecolor\": \"white\"}}, \"shapedefaults\": {\"line\": {\"color\": \"#2a3f5f\"}}, \"ternary\": {\"aaxis\": {\"gridcolor\": \"white\", \"linecolor\": \"white\", \"ticks\": \"\"}, \"baxis\": {\"gridcolor\": \"white\", \"linecolor\": \"white\", \"ticks\": \"\"}, \"bgcolor\": \"#E5ECF6\", \"caxis\": {\"gridcolor\": \"white\", \"linecolor\": \"white\", \"ticks\": \"\"}}, \"title\": {\"x\": 0.05}, \"xaxis\": {\"automargin\": true, \"gridcolor\": \"white\", \"linecolor\": \"white\", \"ticks\": \"\", \"title\": {\"standoff\": 15}, \"zerolinecolor\": \"white\", \"zerolinewidth\": 2}, \"yaxis\": {\"automargin\": true, \"gridcolor\": \"white\", \"linecolor\": \"white\", \"ticks\": \"\", \"title\": {\"standoff\": 15}, \"zerolinecolor\": \"white\", \"zerolinewidth\": 2}}}, \"xaxis\": {\"anchor\": \"y\", \"domain\": [0.0, 1.0], \"title\": {\"text\": \"age\"}}, \"yaxis\": {\"anchor\": \"x\", \"domain\": [0.0, 1.0], \"title\": {\"text\": \"ln_wage\"}}},\n",
              "                        {\"responsive\": true}\n",
              "                    ).then(function(){\n",
              "                            \n",
              "var gd = document.getElementById('4225cdb4-d608-4fce-bba0-54e025523110');\n",
              "var x = new MutationObserver(function (mutations, observer) {{\n",
              "        var display = window.getComputedStyle(gd).display;\n",
              "        if (!display || display === 'none') {{\n",
              "            console.log([gd, 'removed!']);\n",
              "            Plotly.purge(gd);\n",
              "            observer.disconnect();\n",
              "        }}\n",
              "}});\n",
              "\n",
              "// Listen for the removal of the full notebook cells\n",
              "var notebookContainer = gd.closest('#notebook-container');\n",
              "if (notebookContainer) {{\n",
              "    x.observe(notebookContainer, {childList: true});\n",
              "}}\n",
              "\n",
              "// Listen for the clearing of the current output cell\n",
              "var outputEl = gd.closest('.output');\n",
              "if (outputEl) {{\n",
              "    x.observe(outputEl, {childList: true});\n",
              "}}\n",
              "\n",
              "                        })\n",
              "                };\n",
              "                \n",
              "            </script>\n",
              "        </div>\n",
              "</body>\n",
              "</html>"
            ]
          },
          "metadata": {}
        }
      ]
    },
    {
      "cell_type": "code",
      "metadata": {
        "colab": {
          "base_uri": "https://localhost:8080/",
          "height": 541
        },
        "id": "ZkDrFefjwXGY",
        "outputId": "336a9fa9-9b5d-40a3-b564-af297356f31e"
      },
      "source": [
        "px.box(collab, x ='collgrad',y='ttl_exp')"
      ],
      "execution_count": null,
      "outputs": [
        {
          "output_type": "display_data",
          "data": {
            "text/html": [
              "<html>\n",
              "<head><meta charset=\"utf-8\" /></head>\n",
              "<body>\n",
              "    <div>\n",
              "            <script src=\"https://cdnjs.cloudflare.com/ajax/libs/mathjax/2.7.5/MathJax.js?config=TeX-AMS-MML_SVG\"></script><script type=\"text/javascript\">if (window.MathJax) {MathJax.Hub.Config({SVG: {font: \"STIX-Web\"}});}</script>\n",
              "                <script type=\"text/javascript\">window.PlotlyConfig = {MathJaxConfig: 'local'};</script>\n",
              "        <script src=\"https://cdn.plot.ly/plotly-latest.min.js\"></script>    \n",
              "            <div id=\"22edeb0d-e74a-438f-bd50-a18746d55672\" class=\"plotly-graph-div\" style=\"height:525px; width:100%;\"></div>\n",
              "            <script type=\"text/javascript\">\n",
              "                \n",
              "                    window.PLOTLYENV=window.PLOTLYENV || {};\n",
              "                    \n",
              "                if (document.getElementById(\"22edeb0d-e74a-438f-bd50-a18746d55672\")) {\n",
              "                    Plotly.newPlot(\n",
              "                        '22edeb0d-e74a-438f-bd50-a18746d55672',\n",
              "                        [{\"alignmentgroup\": \"True\", \"hoverlabel\": {\"namelength\": 0}, \"hovertemplate\": \"collgrad=%{x}<br>ttl_exp=%{y}\", \"legendgroup\": \"\", \"marker\": {\"color\": \"#636efa\"}, \"name\": \"\", \"notched\": false, \"offsetgroup\": \"\", \"orientation\": \"v\", \"showlegend\": false, \"type\": \"box\", \"x\": [1, 0, 0, 0, 0, 1, 0, 0, 0, 0, 0, 0, 0, 0, 0, 0, 1, 0, 0, 0, 1, 1, 1, 0, 0, 1, 1, 0, 0, 1, 0, 0, 0, 0, 0, 0, 1, 0, 1, 0, 0, 0, 1, 0, 0, 0, 0, 0, 0, 0, 0, 0, 0, 1, 1, 0, 1, 1, 0, 0, 0, 0, 0, 0, 0, 0, 0, 0, 0, 0, 1, 0, 0, 1, 0, 0, 0, 0, 0, 0, 0, 0, 0, 0, 0, 0, 0, 0, 0, 0, 0, 0, 0, 1, 1, 1, 0, 0, 0, 0, 0, 1, 1, 0, 0, 1, 1, 1, 1, 1, 0, 0, 0, 0, 1, 1, 1, 0, 0, 1, 0, 0, 0, 1, 0, 0, 0, 0, 0, 0, 0, 0, 0, 1, 0, 1, 1, 1, 0, 1, 0, 0, 0, 0, 0, 0, 0, 1, 0, 1, 0, 0, 0, 0, 0, 0, 0, 0, 1, 1, 1, 1, 1, 1, 1, 0, 0, 0, 0, 1, 0, 0, 1, 0, 0, 0, 0, 0, 0, 0, 0, 1, 0, 0, 0, 0, 1, 0, 0, 1, 1, 0, 0, 1, 0, 0, 0, 0, 1, 1, 0, 0, 1, 0, 0, 0, 0, 0, 0, 0, 1, 0, 1, 0, 1, 1, 0, 1, 0, 0, 1, 0, 0, 0, 1, 0, 0, 0, 0, 0, 0, 0, 0, 1, 0, 0, 0, 0, 1, 0, 0, 1, 0, 1, 0, 0, 0, 0, 0, 0, 0, 1, 0, 0, 1, 0, 0, 0, 1, 0, 0, 1, 1, 0, 0, 0, 0, 0, 0, 1, 1, 0, 0, 0, 0, 1, 1, 0, 1, 0, 0, 0, 1, 0, 0, 0, 0, 0, 0, 0, 0, 0, 0, 1, 0, 0, 0, 0, 0, 0, 0, 0, 0, 1, 0, 0, 0, 0, 0, 0, 0, 1, 1, 1, 0, 1, 0, 1, 1, 1, 0, 0, 0, 0, 0, 0, 0, 0, 0, 1, 0, 0, 0, 0, 1, 0, 1, 0, 1, 0, 1, 0, 0, 0, 0, 1, 0, 0, 0, 0, 0, 0, 0, 0, 0, 1, 0, 0, 0, 0, 0, 0, 0, 1, 1, 1, 0, 0, 1, 0, 0, 0, 0, 0, 0, 0, 1, 1, 0, 0, 0, 0, 0, 0, 0, 1, 0, 1, 0, 0, 0, 0, 0, 0, 0, 0, 0, 0, 0, 0, 0, 1, 0, 0, 0, 0, 0, 0, 0, 0, 0, 1, 1, 0, 0, 0, 0, 0, 0, 0, 0, 0, 0, 0, 0, 0, 0, 0, 0, 0, 0, 1, 0, 0, 1, 0, 0, 1, 0, 0, 0, 0, 0, 1, 0, 0, 1, 1, 0, 0, 1, 0, 0, 0, 1, 0, 0, 0, 0, 0, 1, 0, 0, 1, 0, 0, 0, 1, 0, 0, 0, 0, 0, 1, 1, 0, 0, 0, 0, 0, 0, 0, 0, 1, 0, 1, 0, 0, 0, 0, 0, 0, 1, 1, 0, 0, 0, 0, 0, 0, 0, 0, 0, 0, 0, 1, 0, 1, 0, 0, 0, 0, 0, 0, 0, 0, 0, 0, 0, 0, 1, 0, 1, 0, 0, 0, 0, 0, 1, 0, 0, 0, 0, 0, 0, 1, 0, 0, 0, 1, 0, 0, 0, 0, 0, 0, 1, 0, 0, 1, 0, 0, 0, 1, 1, 1, 0, 0, 0, 0, 1, 1, 0, 1, 1, 0, 0, 0, 1, 1, 0, 0, 0, 0, 1, 0, 0, 0, 0, 1, 0, 0, 0, 0, 0, 0, 1, 0, 1, 0, 0, 0, 0, 0, 1, 0, 0, 0, 0, 0, 0, 0, 0, 0, 0, 0, 1, 0, 0, 1, 0, 0, 0, 0, 0, 0, 0, 0, 1, 0, 0, 1, 0, 1, 0, 0, 0, 1, 0, 0, 0, 0, 0, 0, 0, 0, 0, 0, 1, 0, 0, 0, 1, 1, 0, 0, 1, 0, 1, 1, 0, 1, 0, 1, 0, 0, 0, 0, 0, 0, 1, 0, 0, 0, 0, 1, 0, 0, 0, 0, 0, 0, 0, 0, 0, 0, 1, 1, 0, 0, 0, 0, 0, 0, 0, 0, 0, 0, 1, 1, 1, 0, 1, 0, 1, 0, 0, 0, 0, 1, 1, 0, 1, 0, 0, 0, 0, 0, 1, 0, 1, 0, 1, 0, 0, 0, 0, 0, 0, 0, 0, 0, 0, 1, 1, 0, 0, 0, 1, 0, 0, 0, 0, 0, 0, 0, 0, 0, 0, 0, 0, 0, 1, 1, 0, 0, 1, 0, 0, 0, 0, 0, 0, 0, 0, 0, 0, 0, 0, 0, 0, 0, 1, 0, 0, 1, 0, 0, 0, 0, 0, 0, 0, 1, 1, 0, 0, 1, 0, 0, 0, 0, 0, 0, 0, 0, 1, 0, 0, 0, 1, 0, 0, 0, 0, 0, 1, 0, 0, 0, 0, 1, 1, 0, 1, 0, 1, 1, 0, 0, 0, 0, 0, 0, 0, 0, 0, 0, 0, 0, 0, 0, 0, 0, 0, 0, 0, 0, 0, 1, 0, 1, 1, 0, 0, 1, 0, 1, 0, 0, 1, 1, 0, 0, 0, 1, 1, 0, 0, 0, 0, 0, 0, 0, 0, 0, 1, 0, 1, 0, 0, 0, 0, 0, 0, 0, 0, 0, 0, 0, 1, 0, 0, 0, 0, 0, 0, 0, 0, 0, 1, 0, 0, 0, 0, 1, 0, 0, 0, 0, 1, 0, 0, 0, 0, 0, 0, 1, 0, 0, 0, 1, 0, 0, 1, 1, 0, 0, 1, 0, 0, 0, 0, 1, 0, 0, 0, 0, 0, 1, 0, 0, 0, 0, 0, 0, 0, 0, 0, 0, 1, 0, 0, 0, 0, 0, 0, 0, 0, 0, 0, 0, 1, 0, 0, 0, 0, 0, 0, 0, 0, 0, 0, 0, 0, 0, 0, 0, 0, 0, 0, 0, 0, 1, 0, 0, 0, 0, 0, 0, 0, 0, 0, 0, 0, 0, 0, 0, 0, 0, 0, 0, 0, 0, 0, 0, 0, 0, 1, 0, 0, 0, 0, 0, 1, 0, 0, 0, 0, 0], \"x0\": \" \", \"xaxis\": \"x\", \"y\": [18.32692, 16.03846, 4.532051, 8.467949, 11.92949, 6.7692309999999996, 4.4807690000000004, 17.76282, 14.858979999999999, 13.88461, 4.3333330000000005, 18.49359, 10.55128, 15.80769, 10.55769, 9.807692999999999, 14.262820000000001, 13.55769, 6.2307690000000004, 12.09615, 15.673079999999999, 8.961538000000001, 6.442307, 8.307692999999999, 15.826920000000001, 14.03846, 13.1859, 8.942307000000001, 9.692307000000001, 1.974359, 16.76282, 14.269229999999999, 19.19231, 9.980769, 16.615389999999998, 11.48077, 13.365379999999998, 7.423077, 13.85256, 12.55769, 14.730770000000001, 16.17308, 17.83333, 17.429489999999998, 10.71795, 16.615389999999998, 14.198720000000002, 14.21154, 17.59615, 15.84615, 14.891029999999999, 16.76923, 13.371789999999999, 15.423079999999999, 16.634610000000002, 7.403846000000001, 11.32692, 11.90385, 14.019229999999999, 16.0, 10.59615, 6.192307, 4.858974, 2.576923, 8.788461999999999, 1.9230770000000001, 9.923077000000001, 11.88462, 16.39744, 3.5, 4.807693, 15.410260000000001, 14.39744, 9.596153, 16.46154, 14.71154, 9.705129, 15.339739999999999, 18.6859, 18.99359, 5.0192309999999996, 18.641029999999997, 14.076920000000001, 17.71795, 1.903846, 18.384610000000002, 17.05128, 16.65385, 7.2692309999999996, 13.80769, 17.22436, 10.49359, 11.410260000000001, 13.05769, 15.0641, 15.833329999999998, 12.42308, 12.84615, 11.88461, 10.48077, 16.75641, 14.519229999999999, 13.5, 15.30769, 11.0, 18.89744, 15.00641, 16.365389999999998, 15.21154, 15.64744, 11.75, 5.826923000000001, 17.73718, 16.17308, 18.89102, 7.3397440000000005, 10.82692, 3.333333, 10.39103, 13.173079999999999, 4.5, 7.865385000000001, 7.903846000000001, 18.15385, 4.211538, 19.75, 12.17308, 20.40385, 14.884620000000002, 14.326920000000001, 11.78205, 9.897435, 15.8141, 18.05769, 6.6987179999999995, 16.94231, 10.61539, 10.69231, 15.012820000000001, 7.6666669999999995, 8.615385, 11.53846, 7.506410000000001, 11.44872, 7.2307690000000004, 15.80769, 14.53846, 15.15385, 12.39744, 16.0, 12.25, 13.11539, 4.942307, 0.9166667, 9.923077000000001, 5.288462, 14.86539, 8.038461999999999, 13.75, 6.711538000000001, 18.38462, 13.326920000000001, 16.19231, 17.78846, 18.134610000000002, 7.141025999999999, 4.673076999999999, 16.615389999999998, 16.15385, 4.74359, 16.12179, 17.57692, 14.730770000000001, 14.698720000000002, 16.634610000000002, 16.3782, 11.28846, 13.294870000000001, 8.442307000000001, 5.788461, 16.17308, 18.891029999999997, 13.480770000000001, 18.55769, 9.23718, 16.58333, 16.865389999999998, 18.03846, 7.788461999999999, 15.410260000000001, 12.14744, 12.11539, 13.5, 14.583329999999998, 13.65385, 8.185898, 18.59615, 15.839739999999999, 14.94231, 18.391029999999997, 14.65385, 9.391025, 15.65385, 14.36539, 12.51923, 3.365385, 13.891029999999999, 10.660260000000001, 15.5641, 13.67949, 6.115385, 12.07051, 17.26923, 18.69231, 14.96154, 14.128210000000001, 19.03846, 14.512820000000001, 9.121796, 17.97436, 11.94231, 21.33333, 10.42308, 16.48077, 16.32692, 15.128210000000001, 0.6923077, 14.13461, 3.25641, 2.3461540000000003, 17.78846, 11.63461, 9.673077000000001, 17.69231, 16.75, 11.61539, 17.98077, 11.28846, 17.98077, 7.75, 14.90385, 7.6666669999999995, 17.01282, 12.91667, 5.423076999999999, 6.717948, 10.89103, 16.65385, 15.09615, 8.564103, 6.596153999999999, 13.365379999999998, 11.19231, 12.58333, 13.6859, 7.634614999999999, 6.6666669999999995, 16.16667, 13.84615, 14.71795, 10.92308, 14.94231, 13.90385, 16.865389999999998, 14.35256, 14.67949, 13.78846, 13.923079999999999, 17.19231, 15.326920000000001, 9.596153999999999, 6.346154, 7.243589, 9.871795, 5.2692309999999996, 13.410260000000001, 14.25, 17.94872, 17.634610000000002, 14.673079999999999, 17.115389999999998, 11.72436, 11.83333, 10.96154, 5.647436, 26.03846, 7.73718, 13.801279999999998, 12.35256, 5.846154, 12.44872, 21.16026, 18.76923, 13.923079999999999, 13.75, 12.5, 13.67949, 2.7051279999999998, 10.88461, 16.634610000000002, 17.10256, 18.65385, 8.884616000000001, 11.67308, 4.826923000000001, 9.576922999999999, 17.34615, 17.78846, 14.75641, 15.0, 18.75, 13.94231, 14.86539, 8.634615, 18.07692, 6.538462, 13.44231, 7.865385000000001, 12.78846, 6.012821, 6.75, 15.42949, 16.51282, 19.42308, 22.51282, 19.58333, 12.51923, 13.916670000000002, 11.78846, 14.96154, 16.25641, 12.32692, 17.32692, 11.55769, 13.92949, 10.25, 9.243589, 17.65384, 10.38461, 12.51282, 15.75, 9.480769, 14.115379999999998, 14.44231, 11.42949, 12.41667, 13.762820000000001, 6.76923, 13.44231, 10.16667, 6.935897, 11.36539, 9.557692999999999, 15.78205, 11.0, 16.83333, 2.25, 15.519229999999999, 18.62179, 5.596154, 18.6859, 27.1923, 5.153846, 21.41667, 19.51282, 17.0, 17.79487, 14.0, 10.41667, 14.762820000000001, 15.00641, 8.948718, 17.12179, 10.0, 18.40385, 9.865385, 12.01923, 13.64744, 11.34615, 14.576920000000001, 14.28846, 17.92308, 19.08333, 8.910256, 13.07692, 15.64744, 15.012820000000001, 12.55769, 20.3782, 9.211537, 13.134620000000002, 16.96795, 11.17949, 14.46795, 18.67308, 13.089739999999999, 9.75, 3.5, 7.692308000000001, 15.378210000000001, 13.78846, 17.75, 14.108970000000001, 13.42949, 8.980769, 10.10256, 13.730770000000001, 16.865389999999998, 8.916667, 6.442308000000001, 16.78846, 12.96795, 20.33333, 10.0641, 14.666670000000002, 2.333333, 9.833333, 17.08333, 17.34615, 14.519229999999999, 13.42949, 8.307692999999999, 8.673077000000001, 16.97436, 8.608974, 6.198718, 9.02564, 4.320513, 3.666667, 3.24359, 14.8718, 14.423079999999999, 11.69231, 4.698718, 17.44231, 7.070513, 5.288462, 14.128210000000001, 9.807692, 5.7692309999999996, 7.153846000000001, 14.78205, 19.05769, 12.73077, 9.519231, 6.474359, 10.13461, 5.7307690000000004, 11.910260000000001, 16.23077, 15.230770000000001, 17.76923, 16.83333, 13.423079999999999, 11.69231, 6.628205, 16.5, 8.903846000000001, 9.923077000000001, 16.96154, 16.30769, 9.961538000000001, 13.769229999999999, 17.53846, 14.42949, 12.16667, 11.76282, 16.83333, 10.76923, 16.08333, 18.19872, 8.602565, 8.333333, 14.84615, 13.6218, 12.39103, 20.19872, 14.13461, 13.423079999999999, 10.82692, 11.82692, 9.634615, 19.19231, 7.358974000000001, 4.038462, 13.78846, 10.42949, 13.96154, 17.89744, 15.019229999999999, 16.01923, 15.65385, 6.9166669999999995, 16.8782, 10.78846, 12.82051, 16.17308, 16.134610000000002, 20.33333, 7.4807690000000004, 5.288462, 17.134610000000002, 3.5448720000000002, 9.115385, 9.134615, 8.326922999999999, 10.33333, 10.80128, 10.84615, 4.717948000000001, 15.134620000000002, 8.884615, 3.5128199999999996, 15.03846, 16.16667, 16.02564, 18.070510000000002, 18.384610000000002, 20.384610000000002, 18.94872, 14.59615, 13.980770000000001, 3.8461540000000003, 11.98718, 6.179487, 7.6666669999999995, 14.262820000000001, 11.17949, 20.78205, 12.0641, 5.282051, 19.07692, 17.98077, 9.0, 4.608974, 18.91667, 9.525641, 13.67949, 13.0, 13.519229999999999, 19.01923, 3.160256, 20.19231, 11.95513, 6.756411, 4.5897440000000005, 15.230770000000001, 3.884615, 13.3718, 14.5, 18.44872, 12.94231, 6.070513, 12.0, 13.15385, 12.05769, 10.839739999999999, 14.8782, 5.173076999999999, 21.69231, 16.71154, 19.91667, 12.589739999999999, 15.32051, 16.44231, 13.61539, 14.09615, 11.23077, 12.28205, 7.538461999999999, 11.59615, 18.83974, 12.24359, 12.86538, 8.320513, 11.92308, 16.57692, 7.25, 13.78846, 17.634610000000002, 17.33333, 16.608970000000003, 5.153846, 19.25, 16.26282, 12.46154, 17.03846, 20.60898, 18.75641, 12.9359, 4.615385, 6.384615, 9.557692999999999, 11.57692, 14.615379999999998, 7.435897, 5.320513, 21.79487, 13.84615, 15.673079999999999, 7.8076929999999996, 14.86539, 16.5, 14.326920000000001, 19.26923, 19.83333, 5.038462, 14.90385, 6.173076999999999, 20.320510000000002, 5.2692309999999996, 12.13462, 14.576920000000001, 18.21154, 9.006411, 8.608974, 15.512820000000001, 10.33333, 18.1218, 10.75, 20.21154, 18.55769, 17.92308, 10.75, 13.551279999999998, 8.25, 9.256411, 9.019231, 17.884610000000002, 13.34615, 17.41026, 21.66667, 17.865389999999998, 10.11539, 15.666670000000002, 13.980770000000001, 25.98718, 13.410260000000001, 14.78846, 13.09615, 13.05769, 10.35897, 16.71154, 12.839739999999999, 19.5, 7.711538000000001, 10.19231, 7.532052, 12.60256, 14.61539, 9.442308, 14.69231, 13.25, 2.121795, 15.72436, 14.391029999999999, 20.83333, 18.07692, 14.86539, 2.057692, 8.769231, 12.59615, 4.2307690000000004, 15.25, 15.30769, 14.5641, 5.929487, 15.326920000000001, 17.01923, 15.3141, 9.288461999999999, 5.2307690000000004, 16.79487, 16.04487, 14.90385, 7.134614999999999, 6.346154, 9.557692999999999, 11.96795, 11.0, 13.50641, 4.025641, 5.115385, 10.52564, 14.826920000000001, 8.557692999999999, 12.74359, 15.0, 13.333329999999998, 13.19231, 14.09615, 21.21795, 14.05769, 8.839744, 18.44231, 13.07692, 8.147436, 12.61539, 13.19231, 12.75, 14.826920000000001, 9.538461999999999, 4.570513, 17.28846, 9.75, 13.333329999999998, 11.41667, 12.32051, 8.461538000000001, 16.32692, 14.21154, 7.8076929999999996, 19.391029999999997, 18.51923, 7.153847, 15.22436, 9.166667, 5.5, 7.878205, 13.07692, 13.0, 16.09616, 17.115389999999998, 15.75, 13.11539, 10.65385, 12.53846, 7.557691999999999, 16.69231, 3.7628199999999996, 17.14744, 10.78205, 13.269229999999999, 16.05769, 6.467949, 13.173079999999999, 21.16667, 9.294872, 19.679489999999998, 4.423076999999999, 8.576922999999999, 11.59615, 14.5641, 11.54487, 11.46154, 13.96795, 8.884616000000001, 20.04487, 11.28846, 28.88461, 7.621795, 11.84615, 10.90385, 12.84615, 17.32692, 14.78846, 13.44231, 11.67308, 10.59615, 18.75, 4.057693, 6.5192309999999996, 15.410260000000001, 13.628210000000001, 13.05769, 14.083329999999998, 7.993589999999999, 16.67308, 16.54487, 18.70513, 10.46795, 8.865385, 15.980770000000001, 20.41667, 13.576920000000001, 9.416667, 7.756411, 7.961538000000001, 16.64744, 14.198720000000002, 16.71154, 8.160256, 3.083333, 9.269231, 4.064102, 5.5, 4.653846, 9.365385, 9.519231, 13.916670000000002, 14.916670000000002, 8.115385, 22.19872, 14.82051, 11.61538, 16.134610000000002, 17.71154, 2.788461, 18.19231, 12.71154, 8.269231, 12.90385, 2.480769, 17.51282, 12.90385, 12.76282, 15.59615, 12.01923, 12.33333, 15.423079999999999, 13.11539, 7.403847, 5.602564, 1.6025639999999999, 11.96154, 4.692308000000001, 9.442307000000001, 17.78846, 8.134616000000001, 3.269231, 18.21154, 16.865389999999998, 7.4423070000000004, 16.10256, 5.871795, 17.71795, 20.070510000000002, 16.5, 15.25, 4.358974, 13.64744, 10.71795, 9.576922999999999, 4.2692309999999996, 7.615385000000001, 18.32692, 21.10256, 9.858974, 8.365385, 16.01282, 15.19231, 7.826923, 10.21795, 18.05769, 5.0833330000000005, 11.35898, 18.83333, 2.288461, 2.833333, 9.615385, 10.29487, 2.801282, 12.09615, 12.21154, 13.980770000000001, 18.84615, 3.8269230000000003, 14.88461, 11.82692, 14.19231, 7.596153999999999, 13.75, 12.22436, 6.2692309999999996, 6.6987179999999995, 13.801279999999998, 17.75, 7.314103, 0.1153846, 14.980770000000001, 17.19872, 4.032051, 9.346153999999999, 12.82051, 16.20513, 13.839739999999999, 18.76282, 18.53846, 18.16667, 8.455129, 12.80128, 8.72436, 8.083333, 7.570513, 14.519229999999999, 10.5, 14.55769, 10.47436, 11.99359, 9.294872, 9.576922999999999, 10.589739999999999, 3.7371790000000003, 10.33333, 9.461538000000001, 7.5897440000000005, 17.42308, 16.96795, 7.403846000000001, 14.94231, 20.83974, 14.884620000000002, 8.051281, 14.173079999999999, 16.58333, 13.53846, 17.27564, 12.48718, 14.326920000000001, 19.615389999999998, 19.30128, 20.365389999999998, 15.21154, 12.01282, 11.98077, 8.173077000000001, 14.21154, 8.974359, 13.42949, 17.92308, 12.10897, 17.42308, 15.794870000000001, 9.833333999999999, 21.070510000000002, 12.4359, 13.86539, 15.28846, 11.55128, 4.442308000000001, 16.070510000000002, 5.788462, 15.05769, 9.673077000000001, 10.0, 16.99359, 21.0, 10.910260000000001, 13.90385, 11.57692, 8.532051, 14.53846, 17.3718, 15.52564, 10.871789999999999, 8.692307000000001, 6.403846, 7.5, 5.865385, 3.615385, 12.25, 16.42308, 7.788461, 17.99359, 14.230770000000001, 3.288461, 15.38461, 8.423077000000001, 22.891029999999997, 15.24359, 11.94231, 11.52564, 10.15385, 18.01923, 6.057693, 3.166667, 13.423079999999999, 13.230770000000001, 14.858970000000001, 21.77564, 8.698718, 11.35897, 13.09615, 15.90385, 6.211538, 6.173076999999999, 12.20513, 4.903846, 16.5, 16.01923, 12.03846, 12.410260000000001, 6.25, 12.23718, 7.365385000000001, 15.5641, 18.179489999999998, 10.23718, 17.634610000000002, 4.365385, 5.461538, 11.75, 15.24359, 13.55769, 7.403846000000001, 16.24359, 14.730770000000001, 14.89744, 10.42308, 15.576920000000001], \"y0\": \" \", \"yaxis\": \"y\"}],\n",
              "                        {\"boxmode\": \"group\", \"legend\": {\"tracegroupgap\": 0}, \"margin\": {\"t\": 60}, \"template\": {\"data\": {\"bar\": [{\"error_x\": {\"color\": \"#2a3f5f\"}, \"error_y\": {\"color\": \"#2a3f5f\"}, \"marker\": {\"line\": {\"color\": \"#E5ECF6\", \"width\": 0.5}}, \"type\": \"bar\"}], \"barpolar\": [{\"marker\": {\"line\": {\"color\": \"#E5ECF6\", \"width\": 0.5}}, \"type\": \"barpolar\"}], \"carpet\": [{\"aaxis\": {\"endlinecolor\": \"#2a3f5f\", \"gridcolor\": \"white\", \"linecolor\": \"white\", \"minorgridcolor\": \"white\", \"startlinecolor\": \"#2a3f5f\"}, \"baxis\": {\"endlinecolor\": \"#2a3f5f\", \"gridcolor\": \"white\", \"linecolor\": \"white\", \"minorgridcolor\": \"white\", \"startlinecolor\": \"#2a3f5f\"}, \"type\": \"carpet\"}], \"choropleth\": [{\"colorbar\": {\"outlinewidth\": 0, \"ticks\": \"\"}, \"type\": \"choropleth\"}], \"contour\": [{\"colorbar\": {\"outlinewidth\": 0, \"ticks\": \"\"}, \"colorscale\": [[0.0, \"#0d0887\"], [0.1111111111111111, \"#46039f\"], [0.2222222222222222, \"#7201a8\"], [0.3333333333333333, \"#9c179e\"], [0.4444444444444444, \"#bd3786\"], [0.5555555555555556, \"#d8576b\"], [0.6666666666666666, \"#ed7953\"], [0.7777777777777778, \"#fb9f3a\"], [0.8888888888888888, \"#fdca26\"], [1.0, \"#f0f921\"]], \"type\": \"contour\"}], \"contourcarpet\": [{\"colorbar\": {\"outlinewidth\": 0, \"ticks\": \"\"}, \"type\": \"contourcarpet\"}], \"heatmap\": [{\"colorbar\": {\"outlinewidth\": 0, \"ticks\": \"\"}, \"colorscale\": [[0.0, \"#0d0887\"], [0.1111111111111111, \"#46039f\"], [0.2222222222222222, \"#7201a8\"], [0.3333333333333333, \"#9c179e\"], [0.4444444444444444, \"#bd3786\"], [0.5555555555555556, \"#d8576b\"], [0.6666666666666666, \"#ed7953\"], [0.7777777777777778, \"#fb9f3a\"], [0.8888888888888888, \"#fdca26\"], [1.0, \"#f0f921\"]], \"type\": \"heatmap\"}], \"heatmapgl\": [{\"colorbar\": {\"outlinewidth\": 0, \"ticks\": \"\"}, \"colorscale\": [[0.0, \"#0d0887\"], [0.1111111111111111, \"#46039f\"], [0.2222222222222222, \"#7201a8\"], [0.3333333333333333, \"#9c179e\"], [0.4444444444444444, \"#bd3786\"], [0.5555555555555556, \"#d8576b\"], [0.6666666666666666, \"#ed7953\"], [0.7777777777777778, \"#fb9f3a\"], [0.8888888888888888, \"#fdca26\"], [1.0, \"#f0f921\"]], \"type\": \"heatmapgl\"}], \"histogram\": [{\"marker\": {\"colorbar\": {\"outlinewidth\": 0, \"ticks\": \"\"}}, \"type\": \"histogram\"}], \"histogram2d\": [{\"colorbar\": {\"outlinewidth\": 0, \"ticks\": \"\"}, \"colorscale\": [[0.0, \"#0d0887\"], [0.1111111111111111, \"#46039f\"], [0.2222222222222222, \"#7201a8\"], [0.3333333333333333, \"#9c179e\"], [0.4444444444444444, \"#bd3786\"], [0.5555555555555556, \"#d8576b\"], [0.6666666666666666, \"#ed7953\"], [0.7777777777777778, \"#fb9f3a\"], [0.8888888888888888, \"#fdca26\"], [1.0, \"#f0f921\"]], \"type\": \"histogram2d\"}], \"histogram2dcontour\": [{\"colorbar\": {\"outlinewidth\": 0, \"ticks\": \"\"}, \"colorscale\": [[0.0, \"#0d0887\"], [0.1111111111111111, \"#46039f\"], [0.2222222222222222, \"#7201a8\"], [0.3333333333333333, \"#9c179e\"], [0.4444444444444444, \"#bd3786\"], [0.5555555555555556, \"#d8576b\"], [0.6666666666666666, \"#ed7953\"], [0.7777777777777778, \"#fb9f3a\"], [0.8888888888888888, \"#fdca26\"], [1.0, \"#f0f921\"]], \"type\": \"histogram2dcontour\"}], \"mesh3d\": [{\"colorbar\": {\"outlinewidth\": 0, \"ticks\": \"\"}, \"type\": \"mesh3d\"}], \"parcoords\": [{\"line\": {\"colorbar\": {\"outlinewidth\": 0, \"ticks\": \"\"}}, \"type\": \"parcoords\"}], \"pie\": [{\"automargin\": true, \"type\": \"pie\"}], \"scatter\": [{\"marker\": {\"colorbar\": {\"outlinewidth\": 0, \"ticks\": \"\"}}, \"type\": \"scatter\"}], \"scatter3d\": [{\"line\": {\"colorbar\": {\"outlinewidth\": 0, \"ticks\": \"\"}}, \"marker\": {\"colorbar\": {\"outlinewidth\": 0, \"ticks\": \"\"}}, \"type\": \"scatter3d\"}], \"scattercarpet\": [{\"marker\": {\"colorbar\": {\"outlinewidth\": 0, \"ticks\": \"\"}}, \"type\": \"scattercarpet\"}], \"scattergeo\": [{\"marker\": {\"colorbar\": {\"outlinewidth\": 0, \"ticks\": \"\"}}, \"type\": \"scattergeo\"}], \"scattergl\": [{\"marker\": {\"colorbar\": {\"outlinewidth\": 0, \"ticks\": \"\"}}, \"type\": \"scattergl\"}], \"scattermapbox\": [{\"marker\": {\"colorbar\": {\"outlinewidth\": 0, \"ticks\": \"\"}}, \"type\": \"scattermapbox\"}], \"scatterpolar\": [{\"marker\": {\"colorbar\": {\"outlinewidth\": 0, \"ticks\": \"\"}}, \"type\": \"scatterpolar\"}], \"scatterpolargl\": [{\"marker\": {\"colorbar\": {\"outlinewidth\": 0, \"ticks\": \"\"}}, \"type\": \"scatterpolargl\"}], \"scatterternary\": [{\"marker\": {\"colorbar\": {\"outlinewidth\": 0, \"ticks\": \"\"}}, \"type\": \"scatterternary\"}], \"surface\": [{\"colorbar\": {\"outlinewidth\": 0, \"ticks\": \"\"}, \"colorscale\": [[0.0, \"#0d0887\"], [0.1111111111111111, \"#46039f\"], [0.2222222222222222, \"#7201a8\"], [0.3333333333333333, \"#9c179e\"], [0.4444444444444444, \"#bd3786\"], [0.5555555555555556, \"#d8576b\"], [0.6666666666666666, \"#ed7953\"], [0.7777777777777778, \"#fb9f3a\"], [0.8888888888888888, \"#fdca26\"], [1.0, \"#f0f921\"]], \"type\": \"surface\"}], \"table\": [{\"cells\": {\"fill\": {\"color\": \"#EBF0F8\"}, \"line\": {\"color\": \"white\"}}, \"header\": {\"fill\": {\"color\": \"#C8D4E3\"}, \"line\": {\"color\": \"white\"}}, \"type\": \"table\"}]}, \"layout\": {\"annotationdefaults\": {\"arrowcolor\": \"#2a3f5f\", \"arrowhead\": 0, \"arrowwidth\": 1}, \"coloraxis\": {\"colorbar\": {\"outlinewidth\": 0, \"ticks\": \"\"}}, \"colorscale\": {\"diverging\": [[0, \"#8e0152\"], [0.1, \"#c51b7d\"], [0.2, \"#de77ae\"], [0.3, \"#f1b6da\"], [0.4, \"#fde0ef\"], [0.5, \"#f7f7f7\"], [0.6, \"#e6f5d0\"], [0.7, \"#b8e186\"], [0.8, \"#7fbc41\"], [0.9, \"#4d9221\"], [1, \"#276419\"]], \"sequential\": [[0.0, \"#0d0887\"], [0.1111111111111111, \"#46039f\"], [0.2222222222222222, \"#7201a8\"], [0.3333333333333333, \"#9c179e\"], [0.4444444444444444, \"#bd3786\"], [0.5555555555555556, \"#d8576b\"], [0.6666666666666666, \"#ed7953\"], [0.7777777777777778, \"#fb9f3a\"], [0.8888888888888888, \"#fdca26\"], [1.0, \"#f0f921\"]], \"sequentialminus\": [[0.0, \"#0d0887\"], [0.1111111111111111, \"#46039f\"], [0.2222222222222222, \"#7201a8\"], [0.3333333333333333, \"#9c179e\"], [0.4444444444444444, \"#bd3786\"], [0.5555555555555556, \"#d8576b\"], [0.6666666666666666, \"#ed7953\"], [0.7777777777777778, \"#fb9f3a\"], [0.8888888888888888, \"#fdca26\"], [1.0, \"#f0f921\"]]}, \"colorway\": [\"#636efa\", \"#EF553B\", \"#00cc96\", \"#ab63fa\", \"#FFA15A\", \"#19d3f3\", \"#FF6692\", \"#B6E880\", \"#FF97FF\", \"#FECB52\"], \"font\": {\"color\": \"#2a3f5f\"}, \"geo\": {\"bgcolor\": \"white\", \"lakecolor\": \"white\", \"landcolor\": \"#E5ECF6\", \"showlakes\": true, \"showland\": true, \"subunitcolor\": \"white\"}, \"hoverlabel\": {\"align\": \"left\"}, \"hovermode\": \"closest\", \"mapbox\": {\"style\": \"light\"}, \"paper_bgcolor\": \"white\", \"plot_bgcolor\": \"#E5ECF6\", \"polar\": {\"angularaxis\": {\"gridcolor\": \"white\", \"linecolor\": \"white\", \"ticks\": \"\"}, \"bgcolor\": \"#E5ECF6\", \"radialaxis\": {\"gridcolor\": \"white\", \"linecolor\": \"white\", \"ticks\": \"\"}}, \"scene\": {\"xaxis\": {\"backgroundcolor\": \"#E5ECF6\", \"gridcolor\": \"white\", \"gridwidth\": 2, \"linecolor\": \"white\", \"showbackground\": true, \"ticks\": \"\", \"zerolinecolor\": \"white\"}, \"yaxis\": {\"backgroundcolor\": \"#E5ECF6\", \"gridcolor\": \"white\", \"gridwidth\": 2, \"linecolor\": \"white\", \"showbackground\": true, \"ticks\": \"\", \"zerolinecolor\": \"white\"}, \"zaxis\": {\"backgroundcolor\": \"#E5ECF6\", \"gridcolor\": \"white\", \"gridwidth\": 2, \"linecolor\": \"white\", \"showbackground\": true, \"ticks\": \"\", \"zerolinecolor\": \"white\"}}, \"shapedefaults\": {\"line\": {\"color\": \"#2a3f5f\"}}, \"ternary\": {\"aaxis\": {\"gridcolor\": \"white\", \"linecolor\": \"white\", \"ticks\": \"\"}, \"baxis\": {\"gridcolor\": \"white\", \"linecolor\": \"white\", \"ticks\": \"\"}, \"bgcolor\": \"#E5ECF6\", \"caxis\": {\"gridcolor\": \"white\", \"linecolor\": \"white\", \"ticks\": \"\"}}, \"title\": {\"x\": 0.05}, \"xaxis\": {\"automargin\": true, \"gridcolor\": \"white\", \"linecolor\": \"white\", \"ticks\": \"\", \"title\": {\"standoff\": 15}, \"zerolinecolor\": \"white\", \"zerolinewidth\": 2}, \"yaxis\": {\"automargin\": true, \"gridcolor\": \"white\", \"linecolor\": \"white\", \"ticks\": \"\", \"title\": {\"standoff\": 15}, \"zerolinecolor\": \"white\", \"zerolinewidth\": 2}}}, \"xaxis\": {\"anchor\": \"y\", \"domain\": [0.0, 1.0], \"title\": {\"text\": \"collgrad\"}}, \"yaxis\": {\"anchor\": \"x\", \"domain\": [0.0, 1.0], \"title\": {\"text\": \"ttl_exp\"}}},\n",
              "                        {\"responsive\": true}\n",
              "                    ).then(function(){\n",
              "                            \n",
              "var gd = document.getElementById('22edeb0d-e74a-438f-bd50-a18746d55672');\n",
              "var x = new MutationObserver(function (mutations, observer) {{\n",
              "        var display = window.getComputedStyle(gd).display;\n",
              "        if (!display || display === 'none') {{\n",
              "            console.log([gd, 'removed!']);\n",
              "            Plotly.purge(gd);\n",
              "            observer.disconnect();\n",
              "        }}\n",
              "}});\n",
              "\n",
              "// Listen for the removal of the full notebook cells\n",
              "var notebookContainer = gd.closest('#notebook-container');\n",
              "if (notebookContainer) {{\n",
              "    x.observe(notebookContainer, {childList: true});\n",
              "}}\n",
              "\n",
              "// Listen for the clearing of the current output cell\n",
              "var outputEl = gd.closest('.output');\n",
              "if (outputEl) {{\n",
              "    x.observe(outputEl, {childList: true});\n",
              "}}\n",
              "\n",
              "                        })\n",
              "                };\n",
              "                \n",
              "            </script>\n",
              "        </div>\n",
              "</body>\n",
              "</html>"
            ]
          },
          "metadata": {}
        }
      ]
    },
    {
      "cell_type": "code",
      "metadata": {
        "colab": {
          "base_uri": "https://localhost:8080/",
          "height": 352
        },
        "id": "74AR7VdFj2De",
        "outputId": "f986b6d8-e351-4073-8543-ebdc8a9ed851"
      },
      "source": [
        "plt.hist(collab['ttl_exp'])"
      ],
      "execution_count": null,
      "outputs": [
        {
          "output_type": "execute_result",
          "data": {
            "text/plain": [
              "(array([ 19.,  81., 124., 161., 232., 234., 118.,  27.,   1.,   3.]),\n",
              " array([ 0.1153846 ,  2.99230714,  5.86922968,  8.74615222, 11.62307476,\n",
              "        14.4999973 , 17.37691984, 20.25384238, 23.13076492, 26.00768746,\n",
              "        28.88461   ]),\n",
              " <a list of 10 Patch objects>)"
            ]
          },
          "metadata": {},
          "execution_count": 30
        },
        {
          "output_type": "display_data",
          "data": {
            "image/png": "[encoded data removed]",
            "text/plain": [
              "<Figure size 432x288 with 1 Axes>"
            ]
          },
          "metadata": {
            "needs_background": "light"
          }
        }
      ]
    },
    {
      "cell_type": "code",
      "metadata": {
        "id": "T6d5t7J3bkfq"
      },
      "source": [
        "import matplotlib.pyplot as plt"
      ],
      "execution_count": null,
      "outputs": []
    },
    {
      "cell_type": "code",
      "metadata": {
        "colab": {
          "base_uri": "https://localhost:8080/",
          "height": 299
        },
        "id": "xU95gjW8spfK",
        "outputId": "051347e7-5abf-4196-cefc-141d2b765ee8"
      },
      "source": [
        "collab.describe()"
      ],
      "execution_count": null,
      "outputs": [
        {
          "output_type": "execute_result",
          "data": {
            "text/html": [
              "<div>\n",
              "<style scoped>\n",
              "    .dataframe tbody tr th:only-of-type {\n",
              "        vertical-align: middle;\n",
              "    }\n",
              "\n",
              "    .dataframe tbody tr th {\n",
              "        vertical-align: top;\n",
              "    }\n",
              "\n",
              "    .dataframe thead th {\n",
              "        text-align: right;\n",
              "    }\n",
              "</style>\n",
              "<table border=\"1\" class=\"dataframe\">\n",
              "  <thead>\n",
              "    <tr style=\"text-align: right;\">\n",
              "      <th></th>\n",
              "      <th>id</th>\n",
              "      <th>age</th>\n",
              "      <th>race</th>\n",
              "      <th>collgrad</th>\n",
              "      <th>south</th>\n",
              "      <th>ttl_exp</th>\n",
              "      <th>hours</th>\n",
              "      <th>ln_wage</th>\n",
              "    </tr>\n",
              "  </thead>\n",
              "  <tbody>\n",
              "    <tr>\n",
              "      <th>count</th>\n",
              "      <td>1000.000000</td>\n",
              "      <td>994.000000</td>\n",
              "      <td>1000.000000</td>\n",
              "      <td>1000.000000</td>\n",
              "      <td>1000.000000</td>\n",
              "      <td>1000.000000</td>\n",
              "      <td>1000.000000</td>\n",
              "      <td>1000.000000</td>\n",
              "    </tr>\n",
              "    <tr>\n",
              "      <th>mean</th>\n",
              "      <td>500.500000</td>\n",
              "      <td>39.186117</td>\n",
              "      <td>1.377000</td>\n",
              "      <td>0.221000</td>\n",
              "      <td>0.599000</td>\n",
              "      <td>12.570205</td>\n",
              "      <td>37.965000</td>\n",
              "      <td>1.867301</td>\n",
              "    </tr>\n",
              "    <tr>\n",
              "      <th>std</th>\n",
              "      <td>288.819436</td>\n",
              "      <td>3.108409</td>\n",
              "      <td>0.526449</td>\n",
              "      <td>0.415128</td>\n",
              "      <td>0.490346</td>\n",
              "      <td>4.643023</td>\n",
              "      <td>10.770319</td>\n",
              "      <td>0.592145</td>\n",
              "    </tr>\n",
              "    <tr>\n",
              "      <th>min</th>\n",
              "      <td>1.000000</td>\n",
              "      <td>34.000000</td>\n",
              "      <td>1.000000</td>\n",
              "      <td>0.000000</td>\n",
              "      <td>0.000000</td>\n",
              "      <td>0.115385</td>\n",
              "      <td>1.000000</td>\n",
              "      <td>0.140951</td>\n",
              "    </tr>\n",
              "    <tr>\n",
              "      <th>25%</th>\n",
              "      <td>250.750000</td>\n",
              "      <td>36.000000</td>\n",
              "      <td>1.000000</td>\n",
              "      <td>0.000000</td>\n",
              "      <td>0.000000</td>\n",
              "      <td>9.253205</td>\n",
              "      <td>36.000000</td>\n",
              "      <td>1.441505</td>\n",
              "    </tr>\n",
              "    <tr>\n",
              "      <th>50%</th>\n",
              "      <td>500.500000</td>\n",
              "      <td>39.000000</td>\n",
              "      <td>1.000000</td>\n",
              "      <td>0.000000</td>\n",
              "      <td>1.000000</td>\n",
              "      <td>13.179490</td>\n",
              "      <td>40.000000</td>\n",
              "      <td>1.839322</td>\n",
              "    </tr>\n",
              "    <tr>\n",
              "      <th>75%</th>\n",
              "      <td>750.250000</td>\n",
              "      <td>42.000000</td>\n",
              "      <td>2.000000</td>\n",
              "      <td>0.000000</td>\n",
              "      <td>1.000000</td>\n",
              "      <td>16.028845</td>\n",
              "      <td>40.000000</td>\n",
              "      <td>2.229096</td>\n",
              "    </tr>\n",
              "    <tr>\n",
              "      <th>max</th>\n",
              "      <td>1000.000000</td>\n",
              "      <td>45.000000</td>\n",
              "      <td>3.000000</td>\n",
              "      <td>1.000000</td>\n",
              "      <td>1.000000</td>\n",
              "      <td>28.884610</td>\n",
              "      <td>105.000000</td>\n",
              "      <td>5.263916</td>\n",
              "    </tr>\n",
              "  </tbody>\n",
              "</table>\n",
              "</div>"
            ],
            "text/plain": [
              "                id         age  ...        hours      ln_wage\n",
              "count  1000.000000  994.000000  ...  1000.000000  1000.000000\n",
              "mean    500.500000   39.186117  ...    37.965000     1.867301\n",
              "std     288.819436    3.108409  ...    10.770319     0.592145\n",
              "min       1.000000   34.000000  ...     1.000000     0.140951\n",
              "25%     250.750000   36.000000  ...    36.000000     1.441505\n",
              "50%     500.500000   39.000000  ...    40.000000     1.839322\n",
              "75%     750.250000   42.000000  ...    40.000000     2.229096\n",
              "max    1000.000000   45.000000  ...   105.000000     5.263916\n",
              "\n",
              "[8 rows x 8 columns]"
            ]
          },
          "metadata": {},
          "execution_count": 11
        }
      ]
    },
    {
      "cell_type": "code",
      "metadata": {
        "id": "SwIo0cz06lvZ",
        "colab": {
          "base_uri": "https://localhost:8080/",
          "height": 299
        },
        "outputId": "5b548e49-e0fb-42de-aa7f-fbf1ca0daa12"
      },
      "source": [
        "collab.describe()"
      ],
      "execution_count": null,
      "outputs": [
        {
          "output_type": "execute_result",
          "data": {
            "text/html": [
              "<div>\n",
              "<style scoped>\n",
              "    .dataframe tbody tr th:only-of-type {\n",
              "        vertical-align: middle;\n",
              "    }\n",
              "\n",
              "    .dataframe tbody tr th {\n",
              "        vertical-align: top;\n",
              "    }\n",
              "\n",
              "    .dataframe thead th {\n",
              "        text-align: right;\n",
              "    }\n",
              "</style>\n",
              "<table border=\"1\" class=\"dataframe\">\n",
              "  <thead>\n",
              "    <tr style=\"text-align: right;\">\n",
              "      <th></th>\n",
              "      <th>id</th>\n",
              "      <th>age</th>\n",
              "      <th>race</th>\n",
              "      <th>collgrad</th>\n",
              "      <th>south</th>\n",
              "      <th>ttl_exp</th>\n",
              "      <th>hours</th>\n",
              "      <th>ln_wage</th>\n",
              "    </tr>\n",
              "  </thead>\n",
              "  <tbody>\n",
              "    <tr>\n",
              "      <th>count</th>\n",
              "      <td>1000.000000</td>\n",
              "      <td>994.000000</td>\n",
              "      <td>1000.000000</td>\n",
              "      <td>1000.000000</td>\n",
              "      <td>1000.000000</td>\n",
              "      <td>1000.000000</td>\n",
              "      <td>1000.000000</td>\n",
              "      <td>1000.000000</td>\n",
              "    </tr>\n",
              "    <tr>\n",
              "      <th>mean</th>\n",
              "      <td>500.500000</td>\n",
              "      <td>39.186117</td>\n",
              "      <td>1.377000</td>\n",
              "      <td>0.221000</td>\n",
              "      <td>0.599000</td>\n",
              "      <td>12.570205</td>\n",
              "      <td>37.965000</td>\n",
              "      <td>1.867301</td>\n",
              "    </tr>\n",
              "    <tr>\n",
              "      <th>std</th>\n",
              "      <td>288.819436</td>\n",
              "      <td>3.108409</td>\n",
              "      <td>0.526449</td>\n",
              "      <td>0.415128</td>\n",
              "      <td>0.490346</td>\n",
              "      <td>4.643023</td>\n",
              "      <td>10.770319</td>\n",
              "      <td>0.592145</td>\n",
              "    </tr>\n",
              "    <tr>\n",
              "      <th>min</th>\n",
              "      <td>1.000000</td>\n",
              "      <td>34.000000</td>\n",
              "      <td>1.000000</td>\n",
              "      <td>0.000000</td>\n",
              "      <td>0.000000</td>\n",
              "      <td>0.115385</td>\n",
              "      <td>1.000000</td>\n",
              "      <td>0.140951</td>\n",
              "    </tr>\n",
              "    <tr>\n",
              "      <th>25%</th>\n",
              "      <td>250.750000</td>\n",
              "      <td>36.000000</td>\n",
              "      <td>1.000000</td>\n",
              "      <td>0.000000</td>\n",
              "      <td>0.000000</td>\n",
              "      <td>9.253205</td>\n",
              "      <td>36.000000</td>\n",
              "      <td>1.441505</td>\n",
              "    </tr>\n",
              "    <tr>\n",
              "      <th>50%</th>\n",
              "      <td>500.500000</td>\n",
              "      <td>39.000000</td>\n",
              "      <td>1.000000</td>\n",
              "      <td>0.000000</td>\n",
              "      <td>1.000000</td>\n",
              "      <td>13.179490</td>\n",
              "      <td>40.000000</td>\n",
              "      <td>1.839322</td>\n",
              "    </tr>\n",
              "    <tr>\n",
              "      <th>75%</th>\n",
              "      <td>750.250000</td>\n",
              "      <td>42.000000</td>\n",
              "      <td>2.000000</td>\n",
              "      <td>0.000000</td>\n",
              "      <td>1.000000</td>\n",
              "      <td>16.028845</td>\n",
              "      <td>40.000000</td>\n",
              "      <td>2.229096</td>\n",
              "    </tr>\n",
              "    <tr>\n",
              "      <th>max</th>\n",
              "      <td>1000.000000</td>\n",
              "      <td>45.000000</td>\n",
              "      <td>3.000000</td>\n",
              "      <td>1.000000</td>\n",
              "      <td>1.000000</td>\n",
              "      <td>28.884610</td>\n",
              "      <td>105.000000</td>\n",
              "      <td>5.263916</td>\n",
              "    </tr>\n",
              "  </tbody>\n",
              "</table>\n",
              "</div>"
            ],
            "text/plain": [
              "                id         age  ...        hours      ln_wage\n",
              "count  1000.000000  994.000000  ...  1000.000000  1000.000000\n",
              "mean    500.500000   39.186117  ...    37.965000     1.867301\n",
              "std     288.819436    3.108409  ...    10.770319     0.592145\n",
              "min       1.000000   34.000000  ...     1.000000     0.140951\n",
              "25%     250.750000   36.000000  ...    36.000000     1.441505\n",
              "50%     500.500000   39.000000  ...    40.000000     1.839322\n",
              "75%     750.250000   42.000000  ...    40.000000     2.229096\n",
              "max    1000.000000   45.000000  ...   105.000000     5.263916\n",
              "\n",
              "[8 rows x 8 columns]"
            ]
          },
          "metadata": {},
          "execution_count": 10
        }
      ]
    }
  ]
}